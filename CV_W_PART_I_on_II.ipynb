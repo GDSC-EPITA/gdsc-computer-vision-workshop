{
  "nbformat": 4,
  "nbformat_minor": 0,
  "metadata": {
    "colab": {
      "provenance": [],
      "gpuType": "T4"
    },
    "kernelspec": {
      "name": "python3",
      "display_name": "Python 3"
    },
    "language_info": {
      "name": "python"
    },
    "accelerator": "GPU",
    "widgets": {
      "application/vnd.jupyter.widget-state+json": {
        "9fd170dfbc47457ea3ff0dea76e59b05": {
          "model_module": "@jupyter-widgets/controls",
          "model_name": "HBoxModel",
          "model_module_version": "1.5.0",
          "state": {
            "_dom_classes": [],
            "_model_module": "@jupyter-widgets/controls",
            "_model_module_version": "1.5.0",
            "_model_name": "HBoxModel",
            "_view_count": null,
            "_view_module": "@jupyter-widgets/controls",
            "_view_module_version": "1.5.0",
            "_view_name": "HBoxView",
            "box_style": "",
            "children": [
              "IPY_MODEL_9029617152c04c70bffe1962200fde8a",
              "IPY_MODEL_9e9547bd707f419da1f4d06199550ffa",
              "IPY_MODEL_7c021fb325c44d75b4b15460a5f8ff8a"
            ],
            "layout": "IPY_MODEL_7ced678ab58b40dfa1b3e0a9a144f70d"
          }
        },
        "9029617152c04c70bffe1962200fde8a": {
          "model_module": "@jupyter-widgets/controls",
          "model_name": "HTMLModel",
          "model_module_version": "1.5.0",
          "state": {
            "_dom_classes": [],
            "_model_module": "@jupyter-widgets/controls",
            "_model_module_version": "1.5.0",
            "_model_name": "HTMLModel",
            "_view_count": null,
            "_view_module": "@jupyter-widgets/controls",
            "_view_module_version": "1.5.0",
            "_view_name": "HTMLView",
            "description": "",
            "description_tooltip": null,
            "layout": "IPY_MODEL_638bbbc524c34598baf70fe849425ba8",
            "placeholder": "​",
            "style": "IPY_MODEL_e1f11b53e96f421ab06a28d91fff9bd8",
            "value": "Dl Completed...: 100%"
          }
        },
        "9e9547bd707f419da1f4d06199550ffa": {
          "model_module": "@jupyter-widgets/controls",
          "model_name": "FloatProgressModel",
          "model_module_version": "1.5.0",
          "state": {
            "_dom_classes": [],
            "_model_module": "@jupyter-widgets/controls",
            "_model_module_version": "1.5.0",
            "_model_name": "FloatProgressModel",
            "_view_count": null,
            "_view_module": "@jupyter-widgets/controls",
            "_view_module_version": "1.5.0",
            "_view_name": "ProgressView",
            "bar_style": "success",
            "description": "",
            "description_tooltip": null,
            "layout": "IPY_MODEL_457a34afc89c4f27b84fc329cdd6d024",
            "max": 1,
            "min": 0,
            "orientation": "horizontal",
            "style": "IPY_MODEL_5797f381aaa94a019f5e4121e730cdf0",
            "value": 1
          }
        },
        "7c021fb325c44d75b4b15460a5f8ff8a": {
          "model_module": "@jupyter-widgets/controls",
          "model_name": "HTMLModel",
          "model_module_version": "1.5.0",
          "state": {
            "_dom_classes": [],
            "_model_module": "@jupyter-widgets/controls",
            "_model_module_version": "1.5.0",
            "_model_name": "HTMLModel",
            "_view_count": null,
            "_view_module": "@jupyter-widgets/controls",
            "_view_module_version": "1.5.0",
            "_view_name": "HTMLView",
            "description": "",
            "description_tooltip": null,
            "layout": "IPY_MODEL_ba52825207e845658bc3a464bf60756a",
            "placeholder": "​",
            "style": "IPY_MODEL_977151c0b40b4fa9b1cf3e2fa58e5a97",
            "value": " 1/1 [00:08&lt;00:00,  5.95s/ url]"
          }
        },
        "7ced678ab58b40dfa1b3e0a9a144f70d": {
          "model_module": "@jupyter-widgets/base",
          "model_name": "LayoutModel",
          "model_module_version": "1.2.0",
          "state": {
            "_model_module": "@jupyter-widgets/base",
            "_model_module_version": "1.2.0",
            "_model_name": "LayoutModel",
            "_view_count": null,
            "_view_module": "@jupyter-widgets/base",
            "_view_module_version": "1.2.0",
            "_view_name": "LayoutView",
            "align_content": null,
            "align_items": null,
            "align_self": null,
            "border": null,
            "bottom": null,
            "display": null,
            "flex": null,
            "flex_flow": null,
            "grid_area": null,
            "grid_auto_columns": null,
            "grid_auto_flow": null,
            "grid_auto_rows": null,
            "grid_column": null,
            "grid_gap": null,
            "grid_row": null,
            "grid_template_areas": null,
            "grid_template_columns": null,
            "grid_template_rows": null,
            "height": null,
            "justify_content": null,
            "justify_items": null,
            "left": null,
            "margin": null,
            "max_height": null,
            "max_width": null,
            "min_height": null,
            "min_width": null,
            "object_fit": null,
            "object_position": null,
            "order": null,
            "overflow": null,
            "overflow_x": null,
            "overflow_y": null,
            "padding": null,
            "right": null,
            "top": null,
            "visibility": null,
            "width": null
          }
        },
        "638bbbc524c34598baf70fe849425ba8": {
          "model_module": "@jupyter-widgets/base",
          "model_name": "LayoutModel",
          "model_module_version": "1.2.0",
          "state": {
            "_model_module": "@jupyter-widgets/base",
            "_model_module_version": "1.2.0",
            "_model_name": "LayoutModel",
            "_view_count": null,
            "_view_module": "@jupyter-widgets/base",
            "_view_module_version": "1.2.0",
            "_view_name": "LayoutView",
            "align_content": null,
            "align_items": null,
            "align_self": null,
            "border": null,
            "bottom": null,
            "display": null,
            "flex": null,
            "flex_flow": null,
            "grid_area": null,
            "grid_auto_columns": null,
            "grid_auto_flow": null,
            "grid_auto_rows": null,
            "grid_column": null,
            "grid_gap": null,
            "grid_row": null,
            "grid_template_areas": null,
            "grid_template_columns": null,
            "grid_template_rows": null,
            "height": null,
            "justify_content": null,
            "justify_items": null,
            "left": null,
            "margin": null,
            "max_height": null,
            "max_width": null,
            "min_height": null,
            "min_width": null,
            "object_fit": null,
            "object_position": null,
            "order": null,
            "overflow": null,
            "overflow_x": null,
            "overflow_y": null,
            "padding": null,
            "right": null,
            "top": null,
            "visibility": null,
            "width": null
          }
        },
        "e1f11b53e96f421ab06a28d91fff9bd8": {
          "model_module": "@jupyter-widgets/controls",
          "model_name": "DescriptionStyleModel",
          "model_module_version": "1.5.0",
          "state": {
            "_model_module": "@jupyter-widgets/controls",
            "_model_module_version": "1.5.0",
            "_model_name": "DescriptionStyleModel",
            "_view_count": null,
            "_view_module": "@jupyter-widgets/base",
            "_view_module_version": "1.2.0",
            "_view_name": "StyleView",
            "description_width": ""
          }
        },
        "457a34afc89c4f27b84fc329cdd6d024": {
          "model_module": "@jupyter-widgets/base",
          "model_name": "LayoutModel",
          "model_module_version": "1.2.0",
          "state": {
            "_model_module": "@jupyter-widgets/base",
            "_model_module_version": "1.2.0",
            "_model_name": "LayoutModel",
            "_view_count": null,
            "_view_module": "@jupyter-widgets/base",
            "_view_module_version": "1.2.0",
            "_view_name": "LayoutView",
            "align_content": null,
            "align_items": null,
            "align_self": null,
            "border": null,
            "bottom": null,
            "display": null,
            "flex": null,
            "flex_flow": null,
            "grid_area": null,
            "grid_auto_columns": null,
            "grid_auto_flow": null,
            "grid_auto_rows": null,
            "grid_column": null,
            "grid_gap": null,
            "grid_row": null,
            "grid_template_areas": null,
            "grid_template_columns": null,
            "grid_template_rows": null,
            "height": null,
            "justify_content": null,
            "justify_items": null,
            "left": null,
            "margin": null,
            "max_height": null,
            "max_width": null,
            "min_height": null,
            "min_width": null,
            "object_fit": null,
            "object_position": null,
            "order": null,
            "overflow": null,
            "overflow_x": null,
            "overflow_y": null,
            "padding": null,
            "right": null,
            "top": null,
            "visibility": null,
            "width": "20px"
          }
        },
        "5797f381aaa94a019f5e4121e730cdf0": {
          "model_module": "@jupyter-widgets/controls",
          "model_name": "ProgressStyleModel",
          "model_module_version": "1.5.0",
          "state": {
            "_model_module": "@jupyter-widgets/controls",
            "_model_module_version": "1.5.0",
            "_model_name": "ProgressStyleModel",
            "_view_count": null,
            "_view_module": "@jupyter-widgets/base",
            "_view_module_version": "1.2.0",
            "_view_name": "StyleView",
            "bar_color": null,
            "description_width": ""
          }
        },
        "ba52825207e845658bc3a464bf60756a": {
          "model_module": "@jupyter-widgets/base",
          "model_name": "LayoutModel",
          "model_module_version": "1.2.0",
          "state": {
            "_model_module": "@jupyter-widgets/base",
            "_model_module_version": "1.2.0",
            "_model_name": "LayoutModel",
            "_view_count": null,
            "_view_module": "@jupyter-widgets/base",
            "_view_module_version": "1.2.0",
            "_view_name": "LayoutView",
            "align_content": null,
            "align_items": null,
            "align_self": null,
            "border": null,
            "bottom": null,
            "display": null,
            "flex": null,
            "flex_flow": null,
            "grid_area": null,
            "grid_auto_columns": null,
            "grid_auto_flow": null,
            "grid_auto_rows": null,
            "grid_column": null,
            "grid_gap": null,
            "grid_row": null,
            "grid_template_areas": null,
            "grid_template_columns": null,
            "grid_template_rows": null,
            "height": null,
            "justify_content": null,
            "justify_items": null,
            "left": null,
            "margin": null,
            "max_height": null,
            "max_width": null,
            "min_height": null,
            "min_width": null,
            "object_fit": null,
            "object_position": null,
            "order": null,
            "overflow": null,
            "overflow_x": null,
            "overflow_y": null,
            "padding": null,
            "right": null,
            "top": null,
            "visibility": null,
            "width": null
          }
        },
        "977151c0b40b4fa9b1cf3e2fa58e5a97": {
          "model_module": "@jupyter-widgets/controls",
          "model_name": "DescriptionStyleModel",
          "model_module_version": "1.5.0",
          "state": {
            "_model_module": "@jupyter-widgets/controls",
            "_model_module_version": "1.5.0",
            "_model_name": "DescriptionStyleModel",
            "_view_count": null,
            "_view_module": "@jupyter-widgets/base",
            "_view_module_version": "1.2.0",
            "_view_name": "StyleView",
            "description_width": ""
          }
        },
        "443d33fe27014c539755262f09df966d": {
          "model_module": "@jupyter-widgets/controls",
          "model_name": "HBoxModel",
          "model_module_version": "1.5.0",
          "state": {
            "_dom_classes": [],
            "_model_module": "@jupyter-widgets/controls",
            "_model_module_version": "1.5.0",
            "_model_name": "HBoxModel",
            "_view_count": null,
            "_view_module": "@jupyter-widgets/controls",
            "_view_module_version": "1.5.0",
            "_view_name": "HBoxView",
            "box_style": "",
            "children": [
              "IPY_MODEL_fac69f3ee7cb4da3a25325653b53f5df",
              "IPY_MODEL_3a231c31a230415fa7271aba7cf54749",
              "IPY_MODEL_5f850341430943a484e6a77aa5294133"
            ],
            "layout": "IPY_MODEL_b104fc8b5bb04336805fcf9a2158310f"
          }
        },
        "fac69f3ee7cb4da3a25325653b53f5df": {
          "model_module": "@jupyter-widgets/controls",
          "model_name": "HTMLModel",
          "model_module_version": "1.5.0",
          "state": {
            "_dom_classes": [],
            "_model_module": "@jupyter-widgets/controls",
            "_model_module_version": "1.5.0",
            "_model_name": "HTMLModel",
            "_view_count": null,
            "_view_module": "@jupyter-widgets/controls",
            "_view_module_version": "1.5.0",
            "_view_name": "HTMLView",
            "description": "",
            "description_tooltip": null,
            "layout": "IPY_MODEL_6967d7c48d5a4e628c6484afac53f8d0",
            "placeholder": "​",
            "style": "IPY_MODEL_f207fba80bc147c2923046b59597274e",
            "value": "Dl Size...: 100%"
          }
        },
        "3a231c31a230415fa7271aba7cf54749": {
          "model_module": "@jupyter-widgets/controls",
          "model_name": "FloatProgressModel",
          "model_module_version": "1.5.0",
          "state": {
            "_dom_classes": [],
            "_model_module": "@jupyter-widgets/controls",
            "_model_module_version": "1.5.0",
            "_model_name": "FloatProgressModel",
            "_view_count": null,
            "_view_module": "@jupyter-widgets/controls",
            "_view_module_version": "1.5.0",
            "_view_name": "ProgressView",
            "bar_style": "success",
            "description": "",
            "description_tooltip": null,
            "layout": "IPY_MODEL_3b321467802c44109bac69ba9052da97",
            "max": 1,
            "min": 0,
            "orientation": "horizontal",
            "style": "IPY_MODEL_978414f06072480296f5af4d683d0781",
            "value": 1
          }
        },
        "5f850341430943a484e6a77aa5294133": {
          "model_module": "@jupyter-widgets/controls",
          "model_name": "HTMLModel",
          "model_module_version": "1.5.0",
          "state": {
            "_dom_classes": [],
            "_model_module": "@jupyter-widgets/controls",
            "_model_module_version": "1.5.0",
            "_model_name": "HTMLModel",
            "_view_count": null,
            "_view_module": "@jupyter-widgets/controls",
            "_view_module_version": "1.5.0",
            "_view_name": "HTMLView",
            "description": "",
            "description_tooltip": null,
            "layout": "IPY_MODEL_8b5a9859cde54d0d8d45b16c95f9e6ee",
            "placeholder": "​",
            "style": "IPY_MODEL_c901a9a2c2fc40a897ce09f137f0594e",
            "value": " 162/162 [00:08&lt;00:00, 23.09 MiB/s]"
          }
        },
        "b104fc8b5bb04336805fcf9a2158310f": {
          "model_module": "@jupyter-widgets/base",
          "model_name": "LayoutModel",
          "model_module_version": "1.2.0",
          "state": {
            "_model_module": "@jupyter-widgets/base",
            "_model_module_version": "1.2.0",
            "_model_name": "LayoutModel",
            "_view_count": null,
            "_view_module": "@jupyter-widgets/base",
            "_view_module_version": "1.2.0",
            "_view_name": "LayoutView",
            "align_content": null,
            "align_items": null,
            "align_self": null,
            "border": null,
            "bottom": null,
            "display": null,
            "flex": null,
            "flex_flow": null,
            "grid_area": null,
            "grid_auto_columns": null,
            "grid_auto_flow": null,
            "grid_auto_rows": null,
            "grid_column": null,
            "grid_gap": null,
            "grid_row": null,
            "grid_template_areas": null,
            "grid_template_columns": null,
            "grid_template_rows": null,
            "height": null,
            "justify_content": null,
            "justify_items": null,
            "left": null,
            "margin": null,
            "max_height": null,
            "max_width": null,
            "min_height": null,
            "min_width": null,
            "object_fit": null,
            "object_position": null,
            "order": null,
            "overflow": null,
            "overflow_x": null,
            "overflow_y": null,
            "padding": null,
            "right": null,
            "top": null,
            "visibility": null,
            "width": null
          }
        },
        "6967d7c48d5a4e628c6484afac53f8d0": {
          "model_module": "@jupyter-widgets/base",
          "model_name": "LayoutModel",
          "model_module_version": "1.2.0",
          "state": {
            "_model_module": "@jupyter-widgets/base",
            "_model_module_version": "1.2.0",
            "_model_name": "LayoutModel",
            "_view_count": null,
            "_view_module": "@jupyter-widgets/base",
            "_view_module_version": "1.2.0",
            "_view_name": "LayoutView",
            "align_content": null,
            "align_items": null,
            "align_self": null,
            "border": null,
            "bottom": null,
            "display": null,
            "flex": null,
            "flex_flow": null,
            "grid_area": null,
            "grid_auto_columns": null,
            "grid_auto_flow": null,
            "grid_auto_rows": null,
            "grid_column": null,
            "grid_gap": null,
            "grid_row": null,
            "grid_template_areas": null,
            "grid_template_columns": null,
            "grid_template_rows": null,
            "height": null,
            "justify_content": null,
            "justify_items": null,
            "left": null,
            "margin": null,
            "max_height": null,
            "max_width": null,
            "min_height": null,
            "min_width": null,
            "object_fit": null,
            "object_position": null,
            "order": null,
            "overflow": null,
            "overflow_x": null,
            "overflow_y": null,
            "padding": null,
            "right": null,
            "top": null,
            "visibility": null,
            "width": null
          }
        },
        "f207fba80bc147c2923046b59597274e": {
          "model_module": "@jupyter-widgets/controls",
          "model_name": "DescriptionStyleModel",
          "model_module_version": "1.5.0",
          "state": {
            "_model_module": "@jupyter-widgets/controls",
            "_model_module_version": "1.5.0",
            "_model_name": "DescriptionStyleModel",
            "_view_count": null,
            "_view_module": "@jupyter-widgets/base",
            "_view_module_version": "1.2.0",
            "_view_name": "StyleView",
            "description_width": ""
          }
        },
        "3b321467802c44109bac69ba9052da97": {
          "model_module": "@jupyter-widgets/base",
          "model_name": "LayoutModel",
          "model_module_version": "1.2.0",
          "state": {
            "_model_module": "@jupyter-widgets/base",
            "_model_module_version": "1.2.0",
            "_model_name": "LayoutModel",
            "_view_count": null,
            "_view_module": "@jupyter-widgets/base",
            "_view_module_version": "1.2.0",
            "_view_name": "LayoutView",
            "align_content": null,
            "align_items": null,
            "align_self": null,
            "border": null,
            "bottom": null,
            "display": null,
            "flex": null,
            "flex_flow": null,
            "grid_area": null,
            "grid_auto_columns": null,
            "grid_auto_flow": null,
            "grid_auto_rows": null,
            "grid_column": null,
            "grid_gap": null,
            "grid_row": null,
            "grid_template_areas": null,
            "grid_template_columns": null,
            "grid_template_rows": null,
            "height": null,
            "justify_content": null,
            "justify_items": null,
            "left": null,
            "margin": null,
            "max_height": null,
            "max_width": null,
            "min_height": null,
            "min_width": null,
            "object_fit": null,
            "object_position": null,
            "order": null,
            "overflow": null,
            "overflow_x": null,
            "overflow_y": null,
            "padding": null,
            "right": null,
            "top": null,
            "visibility": null,
            "width": "20px"
          }
        },
        "978414f06072480296f5af4d683d0781": {
          "model_module": "@jupyter-widgets/controls",
          "model_name": "ProgressStyleModel",
          "model_module_version": "1.5.0",
          "state": {
            "_model_module": "@jupyter-widgets/controls",
            "_model_module_version": "1.5.0",
            "_model_name": "ProgressStyleModel",
            "_view_count": null,
            "_view_module": "@jupyter-widgets/base",
            "_view_module_version": "1.2.0",
            "_view_name": "StyleView",
            "bar_color": null,
            "description_width": ""
          }
        },
        "8b5a9859cde54d0d8d45b16c95f9e6ee": {
          "model_module": "@jupyter-widgets/base",
          "model_name": "LayoutModel",
          "model_module_version": "1.2.0",
          "state": {
            "_model_module": "@jupyter-widgets/base",
            "_model_module_version": "1.2.0",
            "_model_name": "LayoutModel",
            "_view_count": null,
            "_view_module": "@jupyter-widgets/base",
            "_view_module_version": "1.2.0",
            "_view_name": "LayoutView",
            "align_content": null,
            "align_items": null,
            "align_self": null,
            "border": null,
            "bottom": null,
            "display": null,
            "flex": null,
            "flex_flow": null,
            "grid_area": null,
            "grid_auto_columns": null,
            "grid_auto_flow": null,
            "grid_auto_rows": null,
            "grid_column": null,
            "grid_gap": null,
            "grid_row": null,
            "grid_template_areas": null,
            "grid_template_columns": null,
            "grid_template_rows": null,
            "height": null,
            "justify_content": null,
            "justify_items": null,
            "left": null,
            "margin": null,
            "max_height": null,
            "max_width": null,
            "min_height": null,
            "min_width": null,
            "object_fit": null,
            "object_position": null,
            "order": null,
            "overflow": null,
            "overflow_x": null,
            "overflow_y": null,
            "padding": null,
            "right": null,
            "top": null,
            "visibility": null,
            "width": null
          }
        },
        "c901a9a2c2fc40a897ce09f137f0594e": {
          "model_module": "@jupyter-widgets/controls",
          "model_name": "DescriptionStyleModel",
          "model_module_version": "1.5.0",
          "state": {
            "_model_module": "@jupyter-widgets/controls",
            "_model_module_version": "1.5.0",
            "_model_name": "DescriptionStyleModel",
            "_view_count": null,
            "_view_module": "@jupyter-widgets/base",
            "_view_module_version": "1.2.0",
            "_view_name": "StyleView",
            "description_width": ""
          }
        },
        "af6acce767a444d2a85c3991ddab542e": {
          "model_module": "@jupyter-widgets/controls",
          "model_name": "HBoxModel",
          "model_module_version": "1.5.0",
          "state": {
            "_dom_classes": [],
            "_model_module": "@jupyter-widgets/controls",
            "_model_module_version": "1.5.0",
            "_model_name": "HBoxModel",
            "_view_count": null,
            "_view_module": "@jupyter-widgets/controls",
            "_view_module_version": "1.5.0",
            "_view_name": "HBoxView",
            "box_style": "",
            "children": [
              "IPY_MODEL_aa87c0cf186740d8a7d07af83dd87dde",
              "IPY_MODEL_3f58ce10b7d44e82a6046eb2835d09f4",
              "IPY_MODEL_cab15f5c3d5c4212b4222f969c9f8a7b"
            ],
            "layout": "IPY_MODEL_cb6ea43ec17d4a98a672d1b9e2fca4b3"
          }
        },
        "aa87c0cf186740d8a7d07af83dd87dde": {
          "model_module": "@jupyter-widgets/controls",
          "model_name": "HTMLModel",
          "model_module_version": "1.5.0",
          "state": {
            "_dom_classes": [],
            "_model_module": "@jupyter-widgets/controls",
            "_model_module_version": "1.5.0",
            "_model_name": "HTMLModel",
            "_view_count": null,
            "_view_module": "@jupyter-widgets/controls",
            "_view_module_version": "1.5.0",
            "_view_name": "HTMLView",
            "description": "",
            "description_tooltip": null,
            "layout": "IPY_MODEL_822fef5836e64222991c173638d86aeb",
            "placeholder": "​",
            "style": "IPY_MODEL_1993adc3d5da4036b4c7302bdf0b0ba1",
            "value": "Extraction completed...: 100%"
          }
        },
        "3f58ce10b7d44e82a6046eb2835d09f4": {
          "model_module": "@jupyter-widgets/controls",
          "model_name": "FloatProgressModel",
          "model_module_version": "1.5.0",
          "state": {
            "_dom_classes": [],
            "_model_module": "@jupyter-widgets/controls",
            "_model_module_version": "1.5.0",
            "_model_name": "FloatProgressModel",
            "_view_count": null,
            "_view_module": "@jupyter-widgets/controls",
            "_view_module_version": "1.5.0",
            "_view_name": "ProgressView",
            "bar_style": "success",
            "description": "",
            "description_tooltip": null,
            "layout": "IPY_MODEL_499e7c6fd22a4e6a86d896bab69f1493",
            "max": 1,
            "min": 0,
            "orientation": "horizontal",
            "style": "IPY_MODEL_3f0d2e3408c24b3985c469c4676a08e2",
            "value": 1
          }
        },
        "cab15f5c3d5c4212b4222f969c9f8a7b": {
          "model_module": "@jupyter-widgets/controls",
          "model_name": "HTMLModel",
          "model_module_version": "1.5.0",
          "state": {
            "_dom_classes": [],
            "_model_module": "@jupyter-widgets/controls",
            "_model_module_version": "1.5.0",
            "_model_name": "HTMLModel",
            "_view_count": null,
            "_view_module": "@jupyter-widgets/controls",
            "_view_module_version": "1.5.0",
            "_view_name": "HTMLView",
            "description": "",
            "description_tooltip": null,
            "layout": "IPY_MODEL_4f0326bf2f484bd18a1a2bb5b98cbcfb",
            "placeholder": "​",
            "style": "IPY_MODEL_697ede3e1a1c40b19357e24c577ac68b",
            "value": " 8/8 [00:08&lt;00:00,  8.74s/ file]"
          }
        },
        "cb6ea43ec17d4a98a672d1b9e2fca4b3": {
          "model_module": "@jupyter-widgets/base",
          "model_name": "LayoutModel",
          "model_module_version": "1.2.0",
          "state": {
            "_model_module": "@jupyter-widgets/base",
            "_model_module_version": "1.2.0",
            "_model_name": "LayoutModel",
            "_view_count": null,
            "_view_module": "@jupyter-widgets/base",
            "_view_module_version": "1.2.0",
            "_view_name": "LayoutView",
            "align_content": null,
            "align_items": null,
            "align_self": null,
            "border": null,
            "bottom": null,
            "display": null,
            "flex": null,
            "flex_flow": null,
            "grid_area": null,
            "grid_auto_columns": null,
            "grid_auto_flow": null,
            "grid_auto_rows": null,
            "grid_column": null,
            "grid_gap": null,
            "grid_row": null,
            "grid_template_areas": null,
            "grid_template_columns": null,
            "grid_template_rows": null,
            "height": null,
            "justify_content": null,
            "justify_items": null,
            "left": null,
            "margin": null,
            "max_height": null,
            "max_width": null,
            "min_height": null,
            "min_width": null,
            "object_fit": null,
            "object_position": null,
            "order": null,
            "overflow": null,
            "overflow_x": null,
            "overflow_y": null,
            "padding": null,
            "right": null,
            "top": null,
            "visibility": null,
            "width": null
          }
        },
        "822fef5836e64222991c173638d86aeb": {
          "model_module": "@jupyter-widgets/base",
          "model_name": "LayoutModel",
          "model_module_version": "1.2.0",
          "state": {
            "_model_module": "@jupyter-widgets/base",
            "_model_module_version": "1.2.0",
            "_model_name": "LayoutModel",
            "_view_count": null,
            "_view_module": "@jupyter-widgets/base",
            "_view_module_version": "1.2.0",
            "_view_name": "LayoutView",
            "align_content": null,
            "align_items": null,
            "align_self": null,
            "border": null,
            "bottom": null,
            "display": null,
            "flex": null,
            "flex_flow": null,
            "grid_area": null,
            "grid_auto_columns": null,
            "grid_auto_flow": null,
            "grid_auto_rows": null,
            "grid_column": null,
            "grid_gap": null,
            "grid_row": null,
            "grid_template_areas": null,
            "grid_template_columns": null,
            "grid_template_rows": null,
            "height": null,
            "justify_content": null,
            "justify_items": null,
            "left": null,
            "margin": null,
            "max_height": null,
            "max_width": null,
            "min_height": null,
            "min_width": null,
            "object_fit": null,
            "object_position": null,
            "order": null,
            "overflow": null,
            "overflow_x": null,
            "overflow_y": null,
            "padding": null,
            "right": null,
            "top": null,
            "visibility": null,
            "width": null
          }
        },
        "1993adc3d5da4036b4c7302bdf0b0ba1": {
          "model_module": "@jupyter-widgets/controls",
          "model_name": "DescriptionStyleModel",
          "model_module_version": "1.5.0",
          "state": {
            "_model_module": "@jupyter-widgets/controls",
            "_model_module_version": "1.5.0",
            "_model_name": "DescriptionStyleModel",
            "_view_count": null,
            "_view_module": "@jupyter-widgets/base",
            "_view_module_version": "1.2.0",
            "_view_name": "StyleView",
            "description_width": ""
          }
        },
        "499e7c6fd22a4e6a86d896bab69f1493": {
          "model_module": "@jupyter-widgets/base",
          "model_name": "LayoutModel",
          "model_module_version": "1.2.0",
          "state": {
            "_model_module": "@jupyter-widgets/base",
            "_model_module_version": "1.2.0",
            "_model_name": "LayoutModel",
            "_view_count": null,
            "_view_module": "@jupyter-widgets/base",
            "_view_module_version": "1.2.0",
            "_view_name": "LayoutView",
            "align_content": null,
            "align_items": null,
            "align_self": null,
            "border": null,
            "bottom": null,
            "display": null,
            "flex": null,
            "flex_flow": null,
            "grid_area": null,
            "grid_auto_columns": null,
            "grid_auto_flow": null,
            "grid_auto_rows": null,
            "grid_column": null,
            "grid_gap": null,
            "grid_row": null,
            "grid_template_areas": null,
            "grid_template_columns": null,
            "grid_template_rows": null,
            "height": null,
            "justify_content": null,
            "justify_items": null,
            "left": null,
            "margin": null,
            "max_height": null,
            "max_width": null,
            "min_height": null,
            "min_width": null,
            "object_fit": null,
            "object_position": null,
            "order": null,
            "overflow": null,
            "overflow_x": null,
            "overflow_y": null,
            "padding": null,
            "right": null,
            "top": null,
            "visibility": null,
            "width": "20px"
          }
        },
        "3f0d2e3408c24b3985c469c4676a08e2": {
          "model_module": "@jupyter-widgets/controls",
          "model_name": "ProgressStyleModel",
          "model_module_version": "1.5.0",
          "state": {
            "_model_module": "@jupyter-widgets/controls",
            "_model_module_version": "1.5.0",
            "_model_name": "ProgressStyleModel",
            "_view_count": null,
            "_view_module": "@jupyter-widgets/base",
            "_view_module_version": "1.2.0",
            "_view_name": "StyleView",
            "bar_color": null,
            "description_width": ""
          }
        },
        "4f0326bf2f484bd18a1a2bb5b98cbcfb": {
          "model_module": "@jupyter-widgets/base",
          "model_name": "LayoutModel",
          "model_module_version": "1.2.0",
          "state": {
            "_model_module": "@jupyter-widgets/base",
            "_model_module_version": "1.2.0",
            "_model_name": "LayoutModel",
            "_view_count": null,
            "_view_module": "@jupyter-widgets/base",
            "_view_module_version": "1.2.0",
            "_view_name": "LayoutView",
            "align_content": null,
            "align_items": null,
            "align_self": null,
            "border": null,
            "bottom": null,
            "display": null,
            "flex": null,
            "flex_flow": null,
            "grid_area": null,
            "grid_auto_columns": null,
            "grid_auto_flow": null,
            "grid_auto_rows": null,
            "grid_column": null,
            "grid_gap": null,
            "grid_row": null,
            "grid_template_areas": null,
            "grid_template_columns": null,
            "grid_template_rows": null,
            "height": null,
            "justify_content": null,
            "justify_items": null,
            "left": null,
            "margin": null,
            "max_height": null,
            "max_width": null,
            "min_height": null,
            "min_width": null,
            "object_fit": null,
            "object_position": null,
            "order": null,
            "overflow": null,
            "overflow_x": null,
            "overflow_y": null,
            "padding": null,
            "right": null,
            "top": null,
            "visibility": null,
            "width": null
          }
        },
        "697ede3e1a1c40b19357e24c577ac68b": {
          "model_module": "@jupyter-widgets/controls",
          "model_name": "DescriptionStyleModel",
          "model_module_version": "1.5.0",
          "state": {
            "_model_module": "@jupyter-widgets/controls",
            "_model_module_version": "1.5.0",
            "_model_name": "DescriptionStyleModel",
            "_view_count": null,
            "_view_module": "@jupyter-widgets/base",
            "_view_module_version": "1.2.0",
            "_view_name": "StyleView",
            "description_width": ""
          }
        },
        "094acf09deb24fc5a060fd3889c57cfe": {
          "model_module": "@jupyter-widgets/controls",
          "model_name": "HBoxModel",
          "model_module_version": "1.5.0",
          "state": {
            "_dom_classes": [],
            "_model_module": "@jupyter-widgets/controls",
            "_model_module_version": "1.5.0",
            "_model_name": "HBoxModel",
            "_view_count": null,
            "_view_module": "@jupyter-widgets/controls",
            "_view_module_version": "1.5.0",
            "_view_name": "HBoxView",
            "box_style": "",
            "children": [
              "IPY_MODEL_c0a051c48bcd4cc1a88093f6509a0138",
              "IPY_MODEL_e548ad1e58e44a1fa7522c0c8ae79462",
              "IPY_MODEL_fafb531cb58a456e87fd872003e7f610"
            ],
            "layout": "IPY_MODEL_105412b38bf94522bfc60bb7a8ef3bd4"
          }
        },
        "c0a051c48bcd4cc1a88093f6509a0138": {
          "model_module": "@jupyter-widgets/controls",
          "model_name": "HTMLModel",
          "model_module_version": "1.5.0",
          "state": {
            "_dom_classes": [],
            "_model_module": "@jupyter-widgets/controls",
            "_model_module_version": "1.5.0",
            "_model_name": "HTMLModel",
            "_view_count": null,
            "_view_module": "@jupyter-widgets/controls",
            "_view_module_version": "1.5.0",
            "_view_name": "HTMLView",
            "description": "",
            "description_tooltip": null,
            "layout": "IPY_MODEL_9f86e073936a436fa387953149bad8b1",
            "placeholder": "​",
            "style": "IPY_MODEL_78e19e0f575b4dea9b7ea927b8c757f0",
            "value": "Generating splits...: 100%"
          }
        },
        "e548ad1e58e44a1fa7522c0c8ae79462": {
          "model_module": "@jupyter-widgets/controls",
          "model_name": "FloatProgressModel",
          "model_module_version": "1.5.0",
          "state": {
            "_dom_classes": [],
            "_model_module": "@jupyter-widgets/controls",
            "_model_module_version": "1.5.0",
            "_model_name": "FloatProgressModel",
            "_view_count": null,
            "_view_module": "@jupyter-widgets/controls",
            "_view_module_version": "1.5.0",
            "_view_name": "ProgressView",
            "bar_style": "",
            "description": "",
            "description_tooltip": null,
            "layout": "IPY_MODEL_c465647aeac2455591d0e71e9b12a93f",
            "max": 2,
            "min": 0,
            "orientation": "horizontal",
            "style": "IPY_MODEL_e0fd765403554449b64c8f3fff266706",
            "value": 2
          }
        },
        "fafb531cb58a456e87fd872003e7f610": {
          "model_module": "@jupyter-widgets/controls",
          "model_name": "HTMLModel",
          "model_module_version": "1.5.0",
          "state": {
            "_dom_classes": [],
            "_model_module": "@jupyter-widgets/controls",
            "_model_module_version": "1.5.0",
            "_model_name": "HTMLModel",
            "_view_count": null,
            "_view_module": "@jupyter-widgets/controls",
            "_view_module_version": "1.5.0",
            "_view_name": "HTMLView",
            "description": "",
            "description_tooltip": null,
            "layout": "IPY_MODEL_9157232a549743cbacb41ad50d215140",
            "placeholder": "​",
            "style": "IPY_MODEL_1303b83597eb4f8ea925a238ca599211",
            "value": " 2/2 [00:58&lt;00:00, 25.70s/ splits]"
          }
        },
        "105412b38bf94522bfc60bb7a8ef3bd4": {
          "model_module": "@jupyter-widgets/base",
          "model_name": "LayoutModel",
          "model_module_version": "1.2.0",
          "state": {
            "_model_module": "@jupyter-widgets/base",
            "_model_module_version": "1.2.0",
            "_model_name": "LayoutModel",
            "_view_count": null,
            "_view_module": "@jupyter-widgets/base",
            "_view_module_version": "1.2.0",
            "_view_name": "LayoutView",
            "align_content": null,
            "align_items": null,
            "align_self": null,
            "border": null,
            "bottom": null,
            "display": null,
            "flex": null,
            "flex_flow": null,
            "grid_area": null,
            "grid_auto_columns": null,
            "grid_auto_flow": null,
            "grid_auto_rows": null,
            "grid_column": null,
            "grid_gap": null,
            "grid_row": null,
            "grid_template_areas": null,
            "grid_template_columns": null,
            "grid_template_rows": null,
            "height": null,
            "justify_content": null,
            "justify_items": null,
            "left": null,
            "margin": null,
            "max_height": null,
            "max_width": null,
            "min_height": null,
            "min_width": null,
            "object_fit": null,
            "object_position": null,
            "order": null,
            "overflow": null,
            "overflow_x": null,
            "overflow_y": null,
            "padding": null,
            "right": null,
            "top": null,
            "visibility": "hidden",
            "width": null
          }
        },
        "9f86e073936a436fa387953149bad8b1": {
          "model_module": "@jupyter-widgets/base",
          "model_name": "LayoutModel",
          "model_module_version": "1.2.0",
          "state": {
            "_model_module": "@jupyter-widgets/base",
            "_model_module_version": "1.2.0",
            "_model_name": "LayoutModel",
            "_view_count": null,
            "_view_module": "@jupyter-widgets/base",
            "_view_module_version": "1.2.0",
            "_view_name": "LayoutView",
            "align_content": null,
            "align_items": null,
            "align_self": null,
            "border": null,
            "bottom": null,
            "display": null,
            "flex": null,
            "flex_flow": null,
            "grid_area": null,
            "grid_auto_columns": null,
            "grid_auto_flow": null,
            "grid_auto_rows": null,
            "grid_column": null,
            "grid_gap": null,
            "grid_row": null,
            "grid_template_areas": null,
            "grid_template_columns": null,
            "grid_template_rows": null,
            "height": null,
            "justify_content": null,
            "justify_items": null,
            "left": null,
            "margin": null,
            "max_height": null,
            "max_width": null,
            "min_height": null,
            "min_width": null,
            "object_fit": null,
            "object_position": null,
            "order": null,
            "overflow": null,
            "overflow_x": null,
            "overflow_y": null,
            "padding": null,
            "right": null,
            "top": null,
            "visibility": null,
            "width": null
          }
        },
        "78e19e0f575b4dea9b7ea927b8c757f0": {
          "model_module": "@jupyter-widgets/controls",
          "model_name": "DescriptionStyleModel",
          "model_module_version": "1.5.0",
          "state": {
            "_model_module": "@jupyter-widgets/controls",
            "_model_module_version": "1.5.0",
            "_model_name": "DescriptionStyleModel",
            "_view_count": null,
            "_view_module": "@jupyter-widgets/base",
            "_view_module_version": "1.2.0",
            "_view_name": "StyleView",
            "description_width": ""
          }
        },
        "c465647aeac2455591d0e71e9b12a93f": {
          "model_module": "@jupyter-widgets/base",
          "model_name": "LayoutModel",
          "model_module_version": "1.2.0",
          "state": {
            "_model_module": "@jupyter-widgets/base",
            "_model_module_version": "1.2.0",
            "_model_name": "LayoutModel",
            "_view_count": null,
            "_view_module": "@jupyter-widgets/base",
            "_view_module_version": "1.2.0",
            "_view_name": "LayoutView",
            "align_content": null,
            "align_items": null,
            "align_self": null,
            "border": null,
            "bottom": null,
            "display": null,
            "flex": null,
            "flex_flow": null,
            "grid_area": null,
            "grid_auto_columns": null,
            "grid_auto_flow": null,
            "grid_auto_rows": null,
            "grid_column": null,
            "grid_gap": null,
            "grid_row": null,
            "grid_template_areas": null,
            "grid_template_columns": null,
            "grid_template_rows": null,
            "height": null,
            "justify_content": null,
            "justify_items": null,
            "left": null,
            "margin": null,
            "max_height": null,
            "max_width": null,
            "min_height": null,
            "min_width": null,
            "object_fit": null,
            "object_position": null,
            "order": null,
            "overflow": null,
            "overflow_x": null,
            "overflow_y": null,
            "padding": null,
            "right": null,
            "top": null,
            "visibility": null,
            "width": null
          }
        },
        "e0fd765403554449b64c8f3fff266706": {
          "model_module": "@jupyter-widgets/controls",
          "model_name": "ProgressStyleModel",
          "model_module_version": "1.5.0",
          "state": {
            "_model_module": "@jupyter-widgets/controls",
            "_model_module_version": "1.5.0",
            "_model_name": "ProgressStyleModel",
            "_view_count": null,
            "_view_module": "@jupyter-widgets/base",
            "_view_module_version": "1.2.0",
            "_view_name": "StyleView",
            "bar_color": null,
            "description_width": ""
          }
        },
        "9157232a549743cbacb41ad50d215140": {
          "model_module": "@jupyter-widgets/base",
          "model_name": "LayoutModel",
          "model_module_version": "1.2.0",
          "state": {
            "_model_module": "@jupyter-widgets/base",
            "_model_module_version": "1.2.0",
            "_model_name": "LayoutModel",
            "_view_count": null,
            "_view_module": "@jupyter-widgets/base",
            "_view_module_version": "1.2.0",
            "_view_name": "LayoutView",
            "align_content": null,
            "align_items": null,
            "align_self": null,
            "border": null,
            "bottom": null,
            "display": null,
            "flex": null,
            "flex_flow": null,
            "grid_area": null,
            "grid_auto_columns": null,
            "grid_auto_flow": null,
            "grid_auto_rows": null,
            "grid_column": null,
            "grid_gap": null,
            "grid_row": null,
            "grid_template_areas": null,
            "grid_template_columns": null,
            "grid_template_rows": null,
            "height": null,
            "justify_content": null,
            "justify_items": null,
            "left": null,
            "margin": null,
            "max_height": null,
            "max_width": null,
            "min_height": null,
            "min_width": null,
            "object_fit": null,
            "object_position": null,
            "order": null,
            "overflow": null,
            "overflow_x": null,
            "overflow_y": null,
            "padding": null,
            "right": null,
            "top": null,
            "visibility": null,
            "width": null
          }
        },
        "1303b83597eb4f8ea925a238ca599211": {
          "model_module": "@jupyter-widgets/controls",
          "model_name": "DescriptionStyleModel",
          "model_module_version": "1.5.0",
          "state": {
            "_model_module": "@jupyter-widgets/controls",
            "_model_module_version": "1.5.0",
            "_model_name": "DescriptionStyleModel",
            "_view_count": null,
            "_view_module": "@jupyter-widgets/base",
            "_view_module_version": "1.2.0",
            "_view_name": "StyleView",
            "description_width": ""
          }
        },
        "4c89b45ea1c844c0850b6e45c938b4da": {
          "model_module": "@jupyter-widgets/controls",
          "model_name": "HBoxModel",
          "model_module_version": "1.5.0",
          "state": {
            "_dom_classes": [],
            "_model_module": "@jupyter-widgets/controls",
            "_model_module_version": "1.5.0",
            "_model_name": "HBoxModel",
            "_view_count": null,
            "_view_module": "@jupyter-widgets/controls",
            "_view_module_version": "1.5.0",
            "_view_name": "HBoxView",
            "box_style": "",
            "children": [
              "IPY_MODEL_9d0c778562364fd694dcf605c8bcf350",
              "IPY_MODEL_c9b1d48cba844a409e3e7a7ba7ca0ade",
              "IPY_MODEL_87eafdcb058d4ee2b47f5c0df7b7314e"
            ],
            "layout": "IPY_MODEL_6a0dd9b4aeee49c38d2e491944c0c025"
          }
        },
        "9d0c778562364fd694dcf605c8bcf350": {
          "model_module": "@jupyter-widgets/controls",
          "model_name": "HTMLModel",
          "model_module_version": "1.5.0",
          "state": {
            "_dom_classes": [],
            "_model_module": "@jupyter-widgets/controls",
            "_model_module_version": "1.5.0",
            "_model_name": "HTMLModel",
            "_view_count": null,
            "_view_module": "@jupyter-widgets/controls",
            "_view_module_version": "1.5.0",
            "_view_name": "HTMLView",
            "description": "",
            "description_tooltip": null,
            "layout": "IPY_MODEL_ae4a1f6eca704dddb8e63e4f183aec72",
            "placeholder": "​",
            "style": "IPY_MODEL_007d85d7e56442a68eefb0c16117dbda",
            "value": "Generating train examples...: 100%"
          }
        },
        "c9b1d48cba844a409e3e7a7ba7ca0ade": {
          "model_module": "@jupyter-widgets/controls",
          "model_name": "FloatProgressModel",
          "model_module_version": "1.5.0",
          "state": {
            "_dom_classes": [],
            "_model_module": "@jupyter-widgets/controls",
            "_model_module_version": "1.5.0",
            "_model_name": "FloatProgressModel",
            "_view_count": null,
            "_view_module": "@jupyter-widgets/controls",
            "_view_module_version": "1.5.0",
            "_view_name": "ProgressView",
            "bar_style": "",
            "description": "",
            "description_tooltip": null,
            "layout": "IPY_MODEL_ecaf7e46ce57485981ac426414ba19ad",
            "max": 50000,
            "min": 0,
            "orientation": "horizontal",
            "style": "IPY_MODEL_5bbb9d71454a404f85d8409841f5e6e0",
            "value": 50000
          }
        },
        "87eafdcb058d4ee2b47f5c0df7b7314e": {
          "model_module": "@jupyter-widgets/controls",
          "model_name": "HTMLModel",
          "model_module_version": "1.5.0",
          "state": {
            "_dom_classes": [],
            "_model_module": "@jupyter-widgets/controls",
            "_model_module_version": "1.5.0",
            "_model_name": "HTMLModel",
            "_view_count": null,
            "_view_module": "@jupyter-widgets/controls",
            "_view_module_version": "1.5.0",
            "_view_name": "HTMLView",
            "description": "",
            "description_tooltip": null,
            "layout": "IPY_MODEL_964a4f0998c64345b7a7a2f3a531b5e3",
            "placeholder": "​",
            "style": "IPY_MODEL_0b1cc0d8983f449284d53d595d5ea988",
            "value": " 49943/50000 [00:48&lt;00:00, 1175.75 examples/s]"
          }
        },
        "6a0dd9b4aeee49c38d2e491944c0c025": {
          "model_module": "@jupyter-widgets/base",
          "model_name": "LayoutModel",
          "model_module_version": "1.2.0",
          "state": {
            "_model_module": "@jupyter-widgets/base",
            "_model_module_version": "1.2.0",
            "_model_name": "LayoutModel",
            "_view_count": null,
            "_view_module": "@jupyter-widgets/base",
            "_view_module_version": "1.2.0",
            "_view_name": "LayoutView",
            "align_content": null,
            "align_items": null,
            "align_self": null,
            "border": null,
            "bottom": null,
            "display": null,
            "flex": null,
            "flex_flow": null,
            "grid_area": null,
            "grid_auto_columns": null,
            "grid_auto_flow": null,
            "grid_auto_rows": null,
            "grid_column": null,
            "grid_gap": null,
            "grid_row": null,
            "grid_template_areas": null,
            "grid_template_columns": null,
            "grid_template_rows": null,
            "height": null,
            "justify_content": null,
            "justify_items": null,
            "left": null,
            "margin": null,
            "max_height": null,
            "max_width": null,
            "min_height": null,
            "min_width": null,
            "object_fit": null,
            "object_position": null,
            "order": null,
            "overflow": null,
            "overflow_x": null,
            "overflow_y": null,
            "padding": null,
            "right": null,
            "top": null,
            "visibility": "hidden",
            "width": null
          }
        },
        "ae4a1f6eca704dddb8e63e4f183aec72": {
          "model_module": "@jupyter-widgets/base",
          "model_name": "LayoutModel",
          "model_module_version": "1.2.0",
          "state": {
            "_model_module": "@jupyter-widgets/base",
            "_model_module_version": "1.2.0",
            "_model_name": "LayoutModel",
            "_view_count": null,
            "_view_module": "@jupyter-widgets/base",
            "_view_module_version": "1.2.0",
            "_view_name": "LayoutView",
            "align_content": null,
            "align_items": null,
            "align_self": null,
            "border": null,
            "bottom": null,
            "display": null,
            "flex": null,
            "flex_flow": null,
            "grid_area": null,
            "grid_auto_columns": null,
            "grid_auto_flow": null,
            "grid_auto_rows": null,
            "grid_column": null,
            "grid_gap": null,
            "grid_row": null,
            "grid_template_areas": null,
            "grid_template_columns": null,
            "grid_template_rows": null,
            "height": null,
            "justify_content": null,
            "justify_items": null,
            "left": null,
            "margin": null,
            "max_height": null,
            "max_width": null,
            "min_height": null,
            "min_width": null,
            "object_fit": null,
            "object_position": null,
            "order": null,
            "overflow": null,
            "overflow_x": null,
            "overflow_y": null,
            "padding": null,
            "right": null,
            "top": null,
            "visibility": null,
            "width": null
          }
        },
        "007d85d7e56442a68eefb0c16117dbda": {
          "model_module": "@jupyter-widgets/controls",
          "model_name": "DescriptionStyleModel",
          "model_module_version": "1.5.0",
          "state": {
            "_model_module": "@jupyter-widgets/controls",
            "_model_module_version": "1.5.0",
            "_model_name": "DescriptionStyleModel",
            "_view_count": null,
            "_view_module": "@jupyter-widgets/base",
            "_view_module_version": "1.2.0",
            "_view_name": "StyleView",
            "description_width": ""
          }
        },
        "ecaf7e46ce57485981ac426414ba19ad": {
          "model_module": "@jupyter-widgets/base",
          "model_name": "LayoutModel",
          "model_module_version": "1.2.0",
          "state": {
            "_model_module": "@jupyter-widgets/base",
            "_model_module_version": "1.2.0",
            "_model_name": "LayoutModel",
            "_view_count": null,
            "_view_module": "@jupyter-widgets/base",
            "_view_module_version": "1.2.0",
            "_view_name": "LayoutView",
            "align_content": null,
            "align_items": null,
            "align_self": null,
            "border": null,
            "bottom": null,
            "display": null,
            "flex": null,
            "flex_flow": null,
            "grid_area": null,
            "grid_auto_columns": null,
            "grid_auto_flow": null,
            "grid_auto_rows": null,
            "grid_column": null,
            "grid_gap": null,
            "grid_row": null,
            "grid_template_areas": null,
            "grid_template_columns": null,
            "grid_template_rows": null,
            "height": null,
            "justify_content": null,
            "justify_items": null,
            "left": null,
            "margin": null,
            "max_height": null,
            "max_width": null,
            "min_height": null,
            "min_width": null,
            "object_fit": null,
            "object_position": null,
            "order": null,
            "overflow": null,
            "overflow_x": null,
            "overflow_y": null,
            "padding": null,
            "right": null,
            "top": null,
            "visibility": null,
            "width": null
          }
        },
        "5bbb9d71454a404f85d8409841f5e6e0": {
          "model_module": "@jupyter-widgets/controls",
          "model_name": "ProgressStyleModel",
          "model_module_version": "1.5.0",
          "state": {
            "_model_module": "@jupyter-widgets/controls",
            "_model_module_version": "1.5.0",
            "_model_name": "ProgressStyleModel",
            "_view_count": null,
            "_view_module": "@jupyter-widgets/base",
            "_view_module_version": "1.2.0",
            "_view_name": "StyleView",
            "bar_color": null,
            "description_width": ""
          }
        },
        "964a4f0998c64345b7a7a2f3a531b5e3": {
          "model_module": "@jupyter-widgets/base",
          "model_name": "LayoutModel",
          "model_module_version": "1.2.0",
          "state": {
            "_model_module": "@jupyter-widgets/base",
            "_model_module_version": "1.2.0",
            "_model_name": "LayoutModel",
            "_view_count": null,
            "_view_module": "@jupyter-widgets/base",
            "_view_module_version": "1.2.0",
            "_view_name": "LayoutView",
            "align_content": null,
            "align_items": null,
            "align_self": null,
            "border": null,
            "bottom": null,
            "display": null,
            "flex": null,
            "flex_flow": null,
            "grid_area": null,
            "grid_auto_columns": null,
            "grid_auto_flow": null,
            "grid_auto_rows": null,
            "grid_column": null,
            "grid_gap": null,
            "grid_row": null,
            "grid_template_areas": null,
            "grid_template_columns": null,
            "grid_template_rows": null,
            "height": null,
            "justify_content": null,
            "justify_items": null,
            "left": null,
            "margin": null,
            "max_height": null,
            "max_width": null,
            "min_height": null,
            "min_width": null,
            "object_fit": null,
            "object_position": null,
            "order": null,
            "overflow": null,
            "overflow_x": null,
            "overflow_y": null,
            "padding": null,
            "right": null,
            "top": null,
            "visibility": null,
            "width": null
          }
        },
        "0b1cc0d8983f449284d53d595d5ea988": {
          "model_module": "@jupyter-widgets/controls",
          "model_name": "DescriptionStyleModel",
          "model_module_version": "1.5.0",
          "state": {
            "_model_module": "@jupyter-widgets/controls",
            "_model_module_version": "1.5.0",
            "_model_name": "DescriptionStyleModel",
            "_view_count": null,
            "_view_module": "@jupyter-widgets/base",
            "_view_module_version": "1.2.0",
            "_view_name": "StyleView",
            "description_width": ""
          }
        },
        "9bd96235043b4142a8f8062fbac45300": {
          "model_module": "@jupyter-widgets/controls",
          "model_name": "HBoxModel",
          "model_module_version": "1.5.0",
          "state": {
            "_dom_classes": [],
            "_model_module": "@jupyter-widgets/controls",
            "_model_module_version": "1.5.0",
            "_model_name": "HBoxModel",
            "_view_count": null,
            "_view_module": "@jupyter-widgets/controls",
            "_view_module_version": "1.5.0",
            "_view_name": "HBoxView",
            "box_style": "",
            "children": [
              "IPY_MODEL_83b69144c9da467c9c82feb0b72cff8b",
              "IPY_MODEL_effe5e3213484f6389e1d7aad3e075ce",
              "IPY_MODEL_77e0d7f902e846859185a0b363e56717"
            ],
            "layout": "IPY_MODEL_a36e6a28383347979c8912249f6bbc71"
          }
        },
        "83b69144c9da467c9c82feb0b72cff8b": {
          "model_module": "@jupyter-widgets/controls",
          "model_name": "HTMLModel",
          "model_module_version": "1.5.0",
          "state": {
            "_dom_classes": [],
            "_model_module": "@jupyter-widgets/controls",
            "_model_module_version": "1.5.0",
            "_model_name": "HTMLModel",
            "_view_count": null,
            "_view_module": "@jupyter-widgets/controls",
            "_view_module_version": "1.5.0",
            "_view_name": "HTMLView",
            "description": "",
            "description_tooltip": null,
            "layout": "IPY_MODEL_4e3bfdd458b44edfbb44c83a9ceaf3cd",
            "placeholder": "​",
            "style": "IPY_MODEL_beed8ee01e294209ab70229cb267a554",
            "value": "Shuffling /root/tensorflow_datasets/cifar10/3.0.2.incompleteHW9U23/cifar10-train.tfrecord*...:  99%"
          }
        },
        "effe5e3213484f6389e1d7aad3e075ce": {
          "model_module": "@jupyter-widgets/controls",
          "model_name": "FloatProgressModel",
          "model_module_version": "1.5.0",
          "state": {
            "_dom_classes": [],
            "_model_module": "@jupyter-widgets/controls",
            "_model_module_version": "1.5.0",
            "_model_name": "FloatProgressModel",
            "_view_count": null,
            "_view_module": "@jupyter-widgets/controls",
            "_view_module_version": "1.5.0",
            "_view_name": "ProgressView",
            "bar_style": "",
            "description": "",
            "description_tooltip": null,
            "layout": "IPY_MODEL_a18d08aba3344144b705eced9a7a4d58",
            "max": 50000,
            "min": 0,
            "orientation": "horizontal",
            "style": "IPY_MODEL_bc828afaee34466882124e570394056a",
            "value": 50000
          }
        },
        "77e0d7f902e846859185a0b363e56717": {
          "model_module": "@jupyter-widgets/controls",
          "model_name": "HTMLModel",
          "model_module_version": "1.5.0",
          "state": {
            "_dom_classes": [],
            "_model_module": "@jupyter-widgets/controls",
            "_model_module_version": "1.5.0",
            "_model_name": "HTMLModel",
            "_view_count": null,
            "_view_module": "@jupyter-widgets/controls",
            "_view_module_version": "1.5.0",
            "_view_name": "HTMLView",
            "description": "",
            "description_tooltip": null,
            "layout": "IPY_MODEL_69db72126aa24969944beac2f5a6117b",
            "placeholder": "​",
            "style": "IPY_MODEL_d930749b45b34162936d9c133292dfe9",
            "value": " 49644/50000 [00:00&lt;00:00, 175400.18 examples/s]"
          }
        },
        "a36e6a28383347979c8912249f6bbc71": {
          "model_module": "@jupyter-widgets/base",
          "model_name": "LayoutModel",
          "model_module_version": "1.2.0",
          "state": {
            "_model_module": "@jupyter-widgets/base",
            "_model_module_version": "1.2.0",
            "_model_name": "LayoutModel",
            "_view_count": null,
            "_view_module": "@jupyter-widgets/base",
            "_view_module_version": "1.2.0",
            "_view_name": "LayoutView",
            "align_content": null,
            "align_items": null,
            "align_self": null,
            "border": null,
            "bottom": null,
            "display": null,
            "flex": null,
            "flex_flow": null,
            "grid_area": null,
            "grid_auto_columns": null,
            "grid_auto_flow": null,
            "grid_auto_rows": null,
            "grid_column": null,
            "grid_gap": null,
            "grid_row": null,
            "grid_template_areas": null,
            "grid_template_columns": null,
            "grid_template_rows": null,
            "height": null,
            "justify_content": null,
            "justify_items": null,
            "left": null,
            "margin": null,
            "max_height": null,
            "max_width": null,
            "min_height": null,
            "min_width": null,
            "object_fit": null,
            "object_position": null,
            "order": null,
            "overflow": null,
            "overflow_x": null,
            "overflow_y": null,
            "padding": null,
            "right": null,
            "top": null,
            "visibility": "hidden",
            "width": null
          }
        },
        "4e3bfdd458b44edfbb44c83a9ceaf3cd": {
          "model_module": "@jupyter-widgets/base",
          "model_name": "LayoutModel",
          "model_module_version": "1.2.0",
          "state": {
            "_model_module": "@jupyter-widgets/base",
            "_model_module_version": "1.2.0",
            "_model_name": "LayoutModel",
            "_view_count": null,
            "_view_module": "@jupyter-widgets/base",
            "_view_module_version": "1.2.0",
            "_view_name": "LayoutView",
            "align_content": null,
            "align_items": null,
            "align_self": null,
            "border": null,
            "bottom": null,
            "display": null,
            "flex": null,
            "flex_flow": null,
            "grid_area": null,
            "grid_auto_columns": null,
            "grid_auto_flow": null,
            "grid_auto_rows": null,
            "grid_column": null,
            "grid_gap": null,
            "grid_row": null,
            "grid_template_areas": null,
            "grid_template_columns": null,
            "grid_template_rows": null,
            "height": null,
            "justify_content": null,
            "justify_items": null,
            "left": null,
            "margin": null,
            "max_height": null,
            "max_width": null,
            "min_height": null,
            "min_width": null,
            "object_fit": null,
            "object_position": null,
            "order": null,
            "overflow": null,
            "overflow_x": null,
            "overflow_y": null,
            "padding": null,
            "right": null,
            "top": null,
            "visibility": null,
            "width": null
          }
        },
        "beed8ee01e294209ab70229cb267a554": {
          "model_module": "@jupyter-widgets/controls",
          "model_name": "DescriptionStyleModel",
          "model_module_version": "1.5.0",
          "state": {
            "_model_module": "@jupyter-widgets/controls",
            "_model_module_version": "1.5.0",
            "_model_name": "DescriptionStyleModel",
            "_view_count": null,
            "_view_module": "@jupyter-widgets/base",
            "_view_module_version": "1.2.0",
            "_view_name": "StyleView",
            "description_width": ""
          }
        },
        "a18d08aba3344144b705eced9a7a4d58": {
          "model_module": "@jupyter-widgets/base",
          "model_name": "LayoutModel",
          "model_module_version": "1.2.0",
          "state": {
            "_model_module": "@jupyter-widgets/base",
            "_model_module_version": "1.2.0",
            "_model_name": "LayoutModel",
            "_view_count": null,
            "_view_module": "@jupyter-widgets/base",
            "_view_module_version": "1.2.0",
            "_view_name": "LayoutView",
            "align_content": null,
            "align_items": null,
            "align_self": null,
            "border": null,
            "bottom": null,
            "display": null,
            "flex": null,
            "flex_flow": null,
            "grid_area": null,
            "grid_auto_columns": null,
            "grid_auto_flow": null,
            "grid_auto_rows": null,
            "grid_column": null,
            "grid_gap": null,
            "grid_row": null,
            "grid_template_areas": null,
            "grid_template_columns": null,
            "grid_template_rows": null,
            "height": null,
            "justify_content": null,
            "justify_items": null,
            "left": null,
            "margin": null,
            "max_height": null,
            "max_width": null,
            "min_height": null,
            "min_width": null,
            "object_fit": null,
            "object_position": null,
            "order": null,
            "overflow": null,
            "overflow_x": null,
            "overflow_y": null,
            "padding": null,
            "right": null,
            "top": null,
            "visibility": null,
            "width": null
          }
        },
        "bc828afaee34466882124e570394056a": {
          "model_module": "@jupyter-widgets/controls",
          "model_name": "ProgressStyleModel",
          "model_module_version": "1.5.0",
          "state": {
            "_model_module": "@jupyter-widgets/controls",
            "_model_module_version": "1.5.0",
            "_model_name": "ProgressStyleModel",
            "_view_count": null,
            "_view_module": "@jupyter-widgets/base",
            "_view_module_version": "1.2.0",
            "_view_name": "StyleView",
            "bar_color": null,
            "description_width": ""
          }
        },
        "69db72126aa24969944beac2f5a6117b": {
          "model_module": "@jupyter-widgets/base",
          "model_name": "LayoutModel",
          "model_module_version": "1.2.0",
          "state": {
            "_model_module": "@jupyter-widgets/base",
            "_model_module_version": "1.2.0",
            "_model_name": "LayoutModel",
            "_view_count": null,
            "_view_module": "@jupyter-widgets/base",
            "_view_module_version": "1.2.0",
            "_view_name": "LayoutView",
            "align_content": null,
            "align_items": null,
            "align_self": null,
            "border": null,
            "bottom": null,
            "display": null,
            "flex": null,
            "flex_flow": null,
            "grid_area": null,
            "grid_auto_columns": null,
            "grid_auto_flow": null,
            "grid_auto_rows": null,
            "grid_column": null,
            "grid_gap": null,
            "grid_row": null,
            "grid_template_areas": null,
            "grid_template_columns": null,
            "grid_template_rows": null,
            "height": null,
            "justify_content": null,
            "justify_items": null,
            "left": null,
            "margin": null,
            "max_height": null,
            "max_width": null,
            "min_height": null,
            "min_width": null,
            "object_fit": null,
            "object_position": null,
            "order": null,
            "overflow": null,
            "overflow_x": null,
            "overflow_y": null,
            "padding": null,
            "right": null,
            "top": null,
            "visibility": null,
            "width": null
          }
        },
        "d930749b45b34162936d9c133292dfe9": {
          "model_module": "@jupyter-widgets/controls",
          "model_name": "DescriptionStyleModel",
          "model_module_version": "1.5.0",
          "state": {
            "_model_module": "@jupyter-widgets/controls",
            "_model_module_version": "1.5.0",
            "_model_name": "DescriptionStyleModel",
            "_view_count": null,
            "_view_module": "@jupyter-widgets/base",
            "_view_module_version": "1.2.0",
            "_view_name": "StyleView",
            "description_width": ""
          }
        },
        "5bc8c4f33afd4772a7c1a8fcba8283d5": {
          "model_module": "@jupyter-widgets/controls",
          "model_name": "HBoxModel",
          "model_module_version": "1.5.0",
          "state": {
            "_dom_classes": [],
            "_model_module": "@jupyter-widgets/controls",
            "_model_module_version": "1.5.0",
            "_model_name": "HBoxModel",
            "_view_count": null,
            "_view_module": "@jupyter-widgets/controls",
            "_view_module_version": "1.5.0",
            "_view_name": "HBoxView",
            "box_style": "",
            "children": [
              "IPY_MODEL_a7e2b8231efd42a1861e3385387c134f",
              "IPY_MODEL_6700bb5542474dbb8dfdda793df6c718",
              "IPY_MODEL_1e5d36745cb24ebfa3a9173c861456aa"
            ],
            "layout": "IPY_MODEL_3ec3585d8102470b9e4d4e56d4cf923e"
          }
        },
        "a7e2b8231efd42a1861e3385387c134f": {
          "model_module": "@jupyter-widgets/controls",
          "model_name": "HTMLModel",
          "model_module_version": "1.5.0",
          "state": {
            "_dom_classes": [],
            "_model_module": "@jupyter-widgets/controls",
            "_model_module_version": "1.5.0",
            "_model_name": "HTMLModel",
            "_view_count": null,
            "_view_module": "@jupyter-widgets/controls",
            "_view_module_version": "1.5.0",
            "_view_name": "HTMLView",
            "description": "",
            "description_tooltip": null,
            "layout": "IPY_MODEL_daf42b50df1c4e61b6aee5e52599822a",
            "placeholder": "​",
            "style": "IPY_MODEL_3459a37bb0fe47d7b99c209c3fa1376b",
            "value": "Generating test examples...:  99%"
          }
        },
        "6700bb5542474dbb8dfdda793df6c718": {
          "model_module": "@jupyter-widgets/controls",
          "model_name": "FloatProgressModel",
          "model_module_version": "1.5.0",
          "state": {
            "_dom_classes": [],
            "_model_module": "@jupyter-widgets/controls",
            "_model_module_version": "1.5.0",
            "_model_name": "FloatProgressModel",
            "_view_count": null,
            "_view_module": "@jupyter-widgets/controls",
            "_view_module_version": "1.5.0",
            "_view_name": "ProgressView",
            "bar_style": "",
            "description": "",
            "description_tooltip": null,
            "layout": "IPY_MODEL_4193cec8393a4fb294aa343b8f8ce445",
            "max": 10000,
            "min": 0,
            "orientation": "horizontal",
            "style": "IPY_MODEL_81979cf2bd4443fa982c721272a505af",
            "value": 10000
          }
        },
        "1e5d36745cb24ebfa3a9173c861456aa": {
          "model_module": "@jupyter-widgets/controls",
          "model_name": "HTMLModel",
          "model_module_version": "1.5.0",
          "state": {
            "_dom_classes": [],
            "_model_module": "@jupyter-widgets/controls",
            "_model_module_version": "1.5.0",
            "_model_name": "HTMLModel",
            "_view_count": null,
            "_view_module": "@jupyter-widgets/controls",
            "_view_module_version": "1.5.0",
            "_view_name": "HTMLView",
            "description": "",
            "description_tooltip": null,
            "layout": "IPY_MODEL_5af35cad9bed481995fcfcc321bf2ef4",
            "placeholder": "​",
            "style": "IPY_MODEL_1688fb36e01646c8b66291c4a24c22c7",
            "value": " 9928/10000 [00:09&lt;00:00, 952.95 examples/s]"
          }
        },
        "3ec3585d8102470b9e4d4e56d4cf923e": {
          "model_module": "@jupyter-widgets/base",
          "model_name": "LayoutModel",
          "model_module_version": "1.2.0",
          "state": {
            "_model_module": "@jupyter-widgets/base",
            "_model_module_version": "1.2.0",
            "_model_name": "LayoutModel",
            "_view_count": null,
            "_view_module": "@jupyter-widgets/base",
            "_view_module_version": "1.2.0",
            "_view_name": "LayoutView",
            "align_content": null,
            "align_items": null,
            "align_self": null,
            "border": null,
            "bottom": null,
            "display": null,
            "flex": null,
            "flex_flow": null,
            "grid_area": null,
            "grid_auto_columns": null,
            "grid_auto_flow": null,
            "grid_auto_rows": null,
            "grid_column": null,
            "grid_gap": null,
            "grid_row": null,
            "grid_template_areas": null,
            "grid_template_columns": null,
            "grid_template_rows": null,
            "height": null,
            "justify_content": null,
            "justify_items": null,
            "left": null,
            "margin": null,
            "max_height": null,
            "max_width": null,
            "min_height": null,
            "min_width": null,
            "object_fit": null,
            "object_position": null,
            "order": null,
            "overflow": null,
            "overflow_x": null,
            "overflow_y": null,
            "padding": null,
            "right": null,
            "top": null,
            "visibility": "hidden",
            "width": null
          }
        },
        "daf42b50df1c4e61b6aee5e52599822a": {
          "model_module": "@jupyter-widgets/base",
          "model_name": "LayoutModel",
          "model_module_version": "1.2.0",
          "state": {
            "_model_module": "@jupyter-widgets/base",
            "_model_module_version": "1.2.0",
            "_model_name": "LayoutModel",
            "_view_count": null,
            "_view_module": "@jupyter-widgets/base",
            "_view_module_version": "1.2.0",
            "_view_name": "LayoutView",
            "align_content": null,
            "align_items": null,
            "align_self": null,
            "border": null,
            "bottom": null,
            "display": null,
            "flex": null,
            "flex_flow": null,
            "grid_area": null,
            "grid_auto_columns": null,
            "grid_auto_flow": null,
            "grid_auto_rows": null,
            "grid_column": null,
            "grid_gap": null,
            "grid_row": null,
            "grid_template_areas": null,
            "grid_template_columns": null,
            "grid_template_rows": null,
            "height": null,
            "justify_content": null,
            "justify_items": null,
            "left": null,
            "margin": null,
            "max_height": null,
            "max_width": null,
            "min_height": null,
            "min_width": null,
            "object_fit": null,
            "object_position": null,
            "order": null,
            "overflow": null,
            "overflow_x": null,
            "overflow_y": null,
            "padding": null,
            "right": null,
            "top": null,
            "visibility": null,
            "width": null
          }
        },
        "3459a37bb0fe47d7b99c209c3fa1376b": {
          "model_module": "@jupyter-widgets/controls",
          "model_name": "DescriptionStyleModel",
          "model_module_version": "1.5.0",
          "state": {
            "_model_module": "@jupyter-widgets/controls",
            "_model_module_version": "1.5.0",
            "_model_name": "DescriptionStyleModel",
            "_view_count": null,
            "_view_module": "@jupyter-widgets/base",
            "_view_module_version": "1.2.0",
            "_view_name": "StyleView",
            "description_width": ""
          }
        },
        "4193cec8393a4fb294aa343b8f8ce445": {
          "model_module": "@jupyter-widgets/base",
          "model_name": "LayoutModel",
          "model_module_version": "1.2.0",
          "state": {
            "_model_module": "@jupyter-widgets/base",
            "_model_module_version": "1.2.0",
            "_model_name": "LayoutModel",
            "_view_count": null,
            "_view_module": "@jupyter-widgets/base",
            "_view_module_version": "1.2.0",
            "_view_name": "LayoutView",
            "align_content": null,
            "align_items": null,
            "align_self": null,
            "border": null,
            "bottom": null,
            "display": null,
            "flex": null,
            "flex_flow": null,
            "grid_area": null,
            "grid_auto_columns": null,
            "grid_auto_flow": null,
            "grid_auto_rows": null,
            "grid_column": null,
            "grid_gap": null,
            "grid_row": null,
            "grid_template_areas": null,
            "grid_template_columns": null,
            "grid_template_rows": null,
            "height": null,
            "justify_content": null,
            "justify_items": null,
            "left": null,
            "margin": null,
            "max_height": null,
            "max_width": null,
            "min_height": null,
            "min_width": null,
            "object_fit": null,
            "object_position": null,
            "order": null,
            "overflow": null,
            "overflow_x": null,
            "overflow_y": null,
            "padding": null,
            "right": null,
            "top": null,
            "visibility": null,
            "width": null
          }
        },
        "81979cf2bd4443fa982c721272a505af": {
          "model_module": "@jupyter-widgets/controls",
          "model_name": "ProgressStyleModel",
          "model_module_version": "1.5.0",
          "state": {
            "_model_module": "@jupyter-widgets/controls",
            "_model_module_version": "1.5.0",
            "_model_name": "ProgressStyleModel",
            "_view_count": null,
            "_view_module": "@jupyter-widgets/base",
            "_view_module_version": "1.2.0",
            "_view_name": "StyleView",
            "bar_color": null,
            "description_width": ""
          }
        },
        "5af35cad9bed481995fcfcc321bf2ef4": {
          "model_module": "@jupyter-widgets/base",
          "model_name": "LayoutModel",
          "model_module_version": "1.2.0",
          "state": {
            "_model_module": "@jupyter-widgets/base",
            "_model_module_version": "1.2.0",
            "_model_name": "LayoutModel",
            "_view_count": null,
            "_view_module": "@jupyter-widgets/base",
            "_view_module_version": "1.2.0",
            "_view_name": "LayoutView",
            "align_content": null,
            "align_items": null,
            "align_self": null,
            "border": null,
            "bottom": null,
            "display": null,
            "flex": null,
            "flex_flow": null,
            "grid_area": null,
            "grid_auto_columns": null,
            "grid_auto_flow": null,
            "grid_auto_rows": null,
            "grid_column": null,
            "grid_gap": null,
            "grid_row": null,
            "grid_template_areas": null,
            "grid_template_columns": null,
            "grid_template_rows": null,
            "height": null,
            "justify_content": null,
            "justify_items": null,
            "left": null,
            "margin": null,
            "max_height": null,
            "max_width": null,
            "min_height": null,
            "min_width": null,
            "object_fit": null,
            "object_position": null,
            "order": null,
            "overflow": null,
            "overflow_x": null,
            "overflow_y": null,
            "padding": null,
            "right": null,
            "top": null,
            "visibility": null,
            "width": null
          }
        },
        "1688fb36e01646c8b66291c4a24c22c7": {
          "model_module": "@jupyter-widgets/controls",
          "model_name": "DescriptionStyleModel",
          "model_module_version": "1.5.0",
          "state": {
            "_model_module": "@jupyter-widgets/controls",
            "_model_module_version": "1.5.0",
            "_model_name": "DescriptionStyleModel",
            "_view_count": null,
            "_view_module": "@jupyter-widgets/base",
            "_view_module_version": "1.2.0",
            "_view_name": "StyleView",
            "description_width": ""
          }
        },
        "eeb804de212f42ebb689f370150313c9": {
          "model_module": "@jupyter-widgets/controls",
          "model_name": "HBoxModel",
          "model_module_version": "1.5.0",
          "state": {
            "_dom_classes": [],
            "_model_module": "@jupyter-widgets/controls",
            "_model_module_version": "1.5.0",
            "_model_name": "HBoxModel",
            "_view_count": null,
            "_view_module": "@jupyter-widgets/controls",
            "_view_module_version": "1.5.0",
            "_view_name": "HBoxView",
            "box_style": "",
            "children": [
              "IPY_MODEL_f594b128f4604e91b5b375f26db9e578",
              "IPY_MODEL_75b99bf1663b4ccb8ed7428391afaf19",
              "IPY_MODEL_ef0275d779264419be93280d1f0b62e8"
            ],
            "layout": "IPY_MODEL_a9dd43cc0f7f49ccbb62a1ef321fe912"
          }
        },
        "f594b128f4604e91b5b375f26db9e578": {
          "model_module": "@jupyter-widgets/controls",
          "model_name": "HTMLModel",
          "model_module_version": "1.5.0",
          "state": {
            "_dom_classes": [],
            "_model_module": "@jupyter-widgets/controls",
            "_model_module_version": "1.5.0",
            "_model_name": "HTMLModel",
            "_view_count": null,
            "_view_module": "@jupyter-widgets/controls",
            "_view_module_version": "1.5.0",
            "_view_name": "HTMLView",
            "description": "",
            "description_tooltip": null,
            "layout": "IPY_MODEL_54d642eceab844ebba427859d80ff680",
            "placeholder": "​",
            "style": "IPY_MODEL_afe6f4be6ba94cf89c86e5eb614f5a45",
            "value": "Shuffling /root/tensorflow_datasets/cifar10/3.0.2.incompleteHW9U23/cifar10-test.tfrecord*...:   0%"
          }
        },
        "75b99bf1663b4ccb8ed7428391afaf19": {
          "model_module": "@jupyter-widgets/controls",
          "model_name": "FloatProgressModel",
          "model_module_version": "1.5.0",
          "state": {
            "_dom_classes": [],
            "_model_module": "@jupyter-widgets/controls",
            "_model_module_version": "1.5.0",
            "_model_name": "FloatProgressModel",
            "_view_count": null,
            "_view_module": "@jupyter-widgets/controls",
            "_view_module_version": "1.5.0",
            "_view_name": "ProgressView",
            "bar_style": "",
            "description": "",
            "description_tooltip": null,
            "layout": "IPY_MODEL_2b256e231f7f40c59271ed174e582eec",
            "max": 10000,
            "min": 0,
            "orientation": "horizontal",
            "style": "IPY_MODEL_f3d4ae0dc0fd4192ac28e9091d87e476",
            "value": 10000
          }
        },
        "ef0275d779264419be93280d1f0b62e8": {
          "model_module": "@jupyter-widgets/controls",
          "model_name": "HTMLModel",
          "model_module_version": "1.5.0",
          "state": {
            "_dom_classes": [],
            "_model_module": "@jupyter-widgets/controls",
            "_model_module_version": "1.5.0",
            "_model_name": "HTMLModel",
            "_view_count": null,
            "_view_module": "@jupyter-widgets/controls",
            "_view_module_version": "1.5.0",
            "_view_name": "HTMLView",
            "description": "",
            "description_tooltip": null,
            "layout": "IPY_MODEL_5673ce8b18b84330ac8b8d67130becef",
            "placeholder": "​",
            "style": "IPY_MODEL_9bf8dc2d8dfc42ed82dfffb4e85060e4",
            "value": " 0/10000 [00:00&lt;?, ? examples/s]"
          }
        },
        "a9dd43cc0f7f49ccbb62a1ef321fe912": {
          "model_module": "@jupyter-widgets/base",
          "model_name": "LayoutModel",
          "model_module_version": "1.2.0",
          "state": {
            "_model_module": "@jupyter-widgets/base",
            "_model_module_version": "1.2.0",
            "_model_name": "LayoutModel",
            "_view_count": null,
            "_view_module": "@jupyter-widgets/base",
            "_view_module_version": "1.2.0",
            "_view_name": "LayoutView",
            "align_content": null,
            "align_items": null,
            "align_self": null,
            "border": null,
            "bottom": null,
            "display": null,
            "flex": null,
            "flex_flow": null,
            "grid_area": null,
            "grid_auto_columns": null,
            "grid_auto_flow": null,
            "grid_auto_rows": null,
            "grid_column": null,
            "grid_gap": null,
            "grid_row": null,
            "grid_template_areas": null,
            "grid_template_columns": null,
            "grid_template_rows": null,
            "height": null,
            "justify_content": null,
            "justify_items": null,
            "left": null,
            "margin": null,
            "max_height": null,
            "max_width": null,
            "min_height": null,
            "min_width": null,
            "object_fit": null,
            "object_position": null,
            "order": null,
            "overflow": null,
            "overflow_x": null,
            "overflow_y": null,
            "padding": null,
            "right": null,
            "top": null,
            "visibility": "hidden",
            "width": null
          }
        },
        "54d642eceab844ebba427859d80ff680": {
          "model_module": "@jupyter-widgets/base",
          "model_name": "LayoutModel",
          "model_module_version": "1.2.0",
          "state": {
            "_model_module": "@jupyter-widgets/base",
            "_model_module_version": "1.2.0",
            "_model_name": "LayoutModel",
            "_view_count": null,
            "_view_module": "@jupyter-widgets/base",
            "_view_module_version": "1.2.0",
            "_view_name": "LayoutView",
            "align_content": null,
            "align_items": null,
            "align_self": null,
            "border": null,
            "bottom": null,
            "display": null,
            "flex": null,
            "flex_flow": null,
            "grid_area": null,
            "grid_auto_columns": null,
            "grid_auto_flow": null,
            "grid_auto_rows": null,
            "grid_column": null,
            "grid_gap": null,
            "grid_row": null,
            "grid_template_areas": null,
            "grid_template_columns": null,
            "grid_template_rows": null,
            "height": null,
            "justify_content": null,
            "justify_items": null,
            "left": null,
            "margin": null,
            "max_height": null,
            "max_width": null,
            "min_height": null,
            "min_width": null,
            "object_fit": null,
            "object_position": null,
            "order": null,
            "overflow": null,
            "overflow_x": null,
            "overflow_y": null,
            "padding": null,
            "right": null,
            "top": null,
            "visibility": null,
            "width": null
          }
        },
        "afe6f4be6ba94cf89c86e5eb614f5a45": {
          "model_module": "@jupyter-widgets/controls",
          "model_name": "DescriptionStyleModel",
          "model_module_version": "1.5.0",
          "state": {
            "_model_module": "@jupyter-widgets/controls",
            "_model_module_version": "1.5.0",
            "_model_name": "DescriptionStyleModel",
            "_view_count": null,
            "_view_module": "@jupyter-widgets/base",
            "_view_module_version": "1.2.0",
            "_view_name": "StyleView",
            "description_width": ""
          }
        },
        "2b256e231f7f40c59271ed174e582eec": {
          "model_module": "@jupyter-widgets/base",
          "model_name": "LayoutModel",
          "model_module_version": "1.2.0",
          "state": {
            "_model_module": "@jupyter-widgets/base",
            "_model_module_version": "1.2.0",
            "_model_name": "LayoutModel",
            "_view_count": null,
            "_view_module": "@jupyter-widgets/base",
            "_view_module_version": "1.2.0",
            "_view_name": "LayoutView",
            "align_content": null,
            "align_items": null,
            "align_self": null,
            "border": null,
            "bottom": null,
            "display": null,
            "flex": null,
            "flex_flow": null,
            "grid_area": null,
            "grid_auto_columns": null,
            "grid_auto_flow": null,
            "grid_auto_rows": null,
            "grid_column": null,
            "grid_gap": null,
            "grid_row": null,
            "grid_template_areas": null,
            "grid_template_columns": null,
            "grid_template_rows": null,
            "height": null,
            "justify_content": null,
            "justify_items": null,
            "left": null,
            "margin": null,
            "max_height": null,
            "max_width": null,
            "min_height": null,
            "min_width": null,
            "object_fit": null,
            "object_position": null,
            "order": null,
            "overflow": null,
            "overflow_x": null,
            "overflow_y": null,
            "padding": null,
            "right": null,
            "top": null,
            "visibility": null,
            "width": null
          }
        },
        "f3d4ae0dc0fd4192ac28e9091d87e476": {
          "model_module": "@jupyter-widgets/controls",
          "model_name": "ProgressStyleModel",
          "model_module_version": "1.5.0",
          "state": {
            "_model_module": "@jupyter-widgets/controls",
            "_model_module_version": "1.5.0",
            "_model_name": "ProgressStyleModel",
            "_view_count": null,
            "_view_module": "@jupyter-widgets/base",
            "_view_module_version": "1.2.0",
            "_view_name": "StyleView",
            "bar_color": null,
            "description_width": ""
          }
        },
        "5673ce8b18b84330ac8b8d67130becef": {
          "model_module": "@jupyter-widgets/base",
          "model_name": "LayoutModel",
          "model_module_version": "1.2.0",
          "state": {
            "_model_module": "@jupyter-widgets/base",
            "_model_module_version": "1.2.0",
            "_model_name": "LayoutModel",
            "_view_count": null,
            "_view_module": "@jupyter-widgets/base",
            "_view_module_version": "1.2.0",
            "_view_name": "LayoutView",
            "align_content": null,
            "align_items": null,
            "align_self": null,
            "border": null,
            "bottom": null,
            "display": null,
            "flex": null,
            "flex_flow": null,
            "grid_area": null,
            "grid_auto_columns": null,
            "grid_auto_flow": null,
            "grid_auto_rows": null,
            "grid_column": null,
            "grid_gap": null,
            "grid_row": null,
            "grid_template_areas": null,
            "grid_template_columns": null,
            "grid_template_rows": null,
            "height": null,
            "justify_content": null,
            "justify_items": null,
            "left": null,
            "margin": null,
            "max_height": null,
            "max_width": null,
            "min_height": null,
            "min_width": null,
            "object_fit": null,
            "object_position": null,
            "order": null,
            "overflow": null,
            "overflow_x": null,
            "overflow_y": null,
            "padding": null,
            "right": null,
            "top": null,
            "visibility": null,
            "width": null
          }
        },
        "9bf8dc2d8dfc42ed82dfffb4e85060e4": {
          "model_module": "@jupyter-widgets/controls",
          "model_name": "DescriptionStyleModel",
          "model_module_version": "1.5.0",
          "state": {
            "_model_module": "@jupyter-widgets/controls",
            "_model_module_version": "1.5.0",
            "_model_name": "DescriptionStyleModel",
            "_view_count": null,
            "_view_module": "@jupyter-widgets/base",
            "_view_module_version": "1.2.0",
            "_view_name": "StyleView",
            "description_width": ""
          }
        }
      }
    }
  },
  "cells": [
    {
      "cell_type": "markdown",
      "source": [
        "# **Computer Vision Workshop** - CIFAR10 Classification - PART I"
      ],
      "metadata": {
        "id": "R98uVO1yed5e"
      }
    },
    {
      "cell_type": "markdown",
      "source": [
        "![alt](https://kibernetika.ai/wp-content/uploads/2018/11/CIFAR-10.png)"
      ],
      "metadata": {
        "id": "6KXO3ZGFaEf-"
      }
    },
    {
      "cell_type": "markdown",
      "source": [
        "## I. <ins>Introduction</ins>"
      ],
      "metadata": {
        "id": "LHYjtaNief0K"
      }
    },
    {
      "cell_type": "markdown",
      "source": [
        "Welcome to this Google Colaboratory (Colab) Jupyter Notebook, where you will learn how to leverage the powerful TensorFlow library for image classification on the CIFAR-10 dataset. This is an interactive learning experience where you'll build and progressively improve a deep learning model, step by step.\n",
        "\n",
        "This is the **1/2 notebook**, it has been split into two contiguous notebooks for the sake of readability.\n",
        "\n",
        "The primary objective of this notebook is to serve as a guide, providing you with a comprehensive example to follow. As this is the initial notebook you'll be navigating through, it's designed to illustrate the process in detail.\n",
        "\n",
        "**Feel free to modify and experiment with the given code !**\n",
        "\n",
        "There also are\n",
        "\n",
        "<details open>\n",
        "  <summary><h3>🔎 <ins>To Go Further<ins/><h3/></summary>\n",
        "\n",
        "  > sections which can give you an idea of what you could try, with the difficulity in ⭐\n",
        "</details>\n",
        "\n",
        "The CIFAR-10 dataset consists of 60,000 32x32 color images in 10 different classes, with 6,000 images per class. There are 50,000 training images and 10,000 test images. The classes include objects such as cars, birds, cats, dogs, and more.\n",
        "\n",
        "**I hope you like it 😀 and that it gives you the necessary tools to compete in the Kaggle contest !**"
      ],
      "metadata": {
        "id": "XNnhS6GJeokq"
      }
    },
    {
      "cell_type": "markdown",
      "source": [
        "Let's get started !"
      ],
      "metadata": {
        "id": "JmtbfsReYVSf"
      }
    },
    {
      "cell_type": "markdown",
      "source": [
        "If you have any questions regarding this notebook, add me on Discord : **OrdinaryDev83#9338**"
      ],
      "metadata": {
        "id": "Cq261UfF3n3I"
      }
    },
    {
      "cell_type": "markdown",
      "source": [
        "## II. <ins>Google Colab Tutorial</ins>\n",
        "\n",
        "Google Colab (short for Collaboratory) is a cloud-based Jupyter notebook environment provided by Google. It allows you to run and write code in Python directly in your web browser without requiring any local setup. Colab provides free access to GPUs, making it particularly useful for machine learning and deep learning tasks."
      ],
      "metadata": {
        "id": "Nl8bKcsM0GCH"
      }
    },
    {
      "cell_type": "markdown",
      "source": [
        "### Step 1: Duplicate the notebook so you can modify it\n",
        "\n",
        "Before doing anything, press this button\n",
        "> ![Copier Sur Drive](https://i.imgur.com/VYlJSL8.png)\n",
        "\n",
        "A new tab will appear, this notebook has been copied to your Google Drive, you can now access it from there.\n",
        "\n",
        "You need to be able to see\n",
        "> ![Toutes les modifications ont été enregistrées](https://i.imgur.com/1UvF3Yn.png)"
      ],
      "metadata": {
        "id": "OrWy30RL3PQZ"
      }
    },
    {
      "cell_type": "markdown",
      "source": [
        "### Step 2: Writing and Running Code\n",
        "\n",
        "You can write and run code cells within the notebook. Each cell can contain either code or text (MarkDown). To add a new cell, click on the \"+\" button on the toolbar above the notebook or between cells when hovering with your cursor.\n",
        "\n",
        "In a code cell, you can write and execute Python code. To run a code cell, click on the play button ▶️ on the left side of the cell or use the keyboard shortcut \"Shift+Enter\". The code will be executed, and the output (if any) will be displayed below the cell. The notebook will always display all the prints you could have and the value of variable of the last line in the cell.\n",
        "> ![l](https://i.imgur.com/p9zJQ5A.png)"
      ],
      "metadata": {
        "id": "uxToAzLl3UA8"
      }
    },
    {
      "cell_type": "markdown",
      "source": [
        "### Step 3: Using GPU\n",
        "\n",
        "Colab provides free access to GPUs, which can significantly accelerate deep learning tasks. To enable GPU or TPU acceleration, click on \"Runtime\" in the Colab menu and select \"Change runtime type\". In the dialog box, choose \"GPU\"  from the \"Hardware accelerator\" dropdown menu and click \"Save\". Colab will restart the runtime and allocate the selected accelerator.\n",
        "![k](https://images.deepai.org/converted-papers/1802.04799/x1.png)"
      ],
      "metadata": {
        "id": "eKNboWGj3VP7"
      }
    },
    {
      "cell_type": "markdown",
      "source": [
        "### Step 4: Installing Packages and Libraries\n",
        "\n",
        "Colab comes with many popular Python packages pre-installed. However, if you need to install additional packages, you can use the \"!pip install\" command within a code cell. For example, to install the NumPy package, you can run the following command: (in this notebook you don't need to install anything)\n",
        "\n",
        "```python\n",
        "!pip install numpy\n",
        "```"
      ],
      "metadata": {
        "id": "0206CfrK3WX3"
      }
    },
    {
      "cell_type": "markdown",
      "source": [
        "### Step 5: Exiting and Clearing Session\n",
        "\n",
        "To exit a Colab notebook, you can simply close the browser tab. Colab automatically saves the notebook's state, so when you reopen it, you can continue from where you left off.\n",
        "\n",
        "If you want to clear the output and reset the runtime, click on \"Runtime\" in the Colab menu and select \"Restart runtime\". This will clear all variables and reset the notebook's state.\n",
        "\n",
        "That's it! You now have a basic understanding of Google Colab and its key features. You can explore further by working on your own projects, leveraging the provided GPU resources, and experimenting with different libraries and frameworks available in the Colab environment.\n",
        "\n",
        "Happy coding!"
      ],
      "metadata": {
        "id": "gUt2BmJy3Xhe"
      }
    },
    {
      "cell_type": "markdown",
      "source": [
        "## III. <ins>Setting up the environment</ins>"
      ],
      "metadata": {
        "id": "ux69exgmekS5"
      }
    },
    {
      "cell_type": "markdown",
      "source": [
        "### A. Installing required libraries and tools"
      ],
      "metadata": {
        "id": "veOk9qF_elcb"
      }
    },
    {
      "cell_type": "markdown",
      "source": [
        "**Colab GPU Dependencies**\n",
        "\n",
        "Installation of necessary packages to allow GPU processing."
      ],
      "metadata": {
        "id": "osRQRshOm4ej"
      }
    },
    {
      "cell_type": "code",
      "source": [
        "import tensorflow as tf\n",
        "from tensorflow.keras import layers, models, utils, applications\n",
        "import tensorflow_datasets as tfds\n",
        "import numpy as np\n",
        "import matplotlib.pyplot as plt\n",
        "from IPython.display import Image, display"
      ],
      "metadata": {
        "id": "AT1Zpm0beubn"
      },
      "execution_count": 1,
      "outputs": []
    },
    {
      "cell_type": "markdown",
      "source": [
        "For reproductibility purposes we need to set the seed, but it's noteworthy that this gives no deterministic behavior"
      ],
      "metadata": {
        "id": "evOLa5Js5Lop"
      }
    },
    {
      "cell_type": "code",
      "source": [
        "tf.random.set_seed(42)\n",
        "np.random.seed(42)"
      ],
      "metadata": {
        "id": "gr4sR-Vlqmol"
      },
      "execution_count": 2,
      "outputs": []
    },
    {
      "cell_type": "code",
      "source": [
        "# Check if the GPU is available\n",
        "tf.config.list_physical_devices('GPU')"
      ],
      "metadata": {
        "colab": {
          "base_uri": "https://localhost:8080/"
        },
        "id": "_k_BPuKtoGw9",
        "outputId": "372519c6-ff60-4a56-8557-9d27b3a65482"
      },
      "execution_count": 3,
      "outputs": [
        {
          "output_type": "execute_result",
          "data": {
            "text/plain": [
              "[PhysicalDevice(name='/physical_device:GPU:0', device_type='GPU')]"
            ]
          },
          "metadata": {},
          "execution_count": 3
        }
      ]
    },
    {
      "cell_type": "markdown",
      "source": [
        "### B. Loading and exploring the CIFAR-10 dataset"
      ],
      "metadata": {
        "id": "5nLLmHqUe0tr"
      }
    },
    {
      "cell_type": "markdown",
      "source": [
        "There are many ways to import the data.\n",
        "Usually, for any type of dataset you would have to :\n",
        "\n",
        "\n",
        "*   Import the dataset as Numpy arrays, CSVs...\n",
        "*   Clean the dataset using Pandas, Sklearn...\n",
        "*   Only keep the features or data your need\n",
        "*   Convert it to `tf.data.Dataset` using `tf.data.Dataset.from_tensor_slices`\n",
        "\n",
        "\n",
        "Here we use the handy `tensorflow_datasets` library function `load` which gives us directly the `tf.data.Dataset` dictionary (train, test) and information on the data (info) for the dataset we need."
      ],
      "metadata": {
        "id": "Iyxx_uWM6l7c"
      }
    },
    {
      "cell_type": "code",
      "source": [
        "# Load and explore the CIFAR-10 datase\n",
        "# load : https://www.tensorflow.org/datasets/api_docs/python/tfds/load\n",
        "# tensorflow_dataset cifar10 : https://www.tensorflow.org/datasets/catalog/cifar10?hl=fr\n",
        "\n",
        "ds_dict, ds_info = tfds.load('cifar10', as_supervised=False, with_info=True)\n",
        "\n",
        "class_names = ds_info.features['label'].names\n",
        "n_classes = len(class_names)\n",
        "\n",
        "ds_info"
      ],
      "metadata": {
        "colab": {
          "base_uri": "https://localhost:8080/",
          "height": 688,
          "referenced_widgets": [
            "9fd170dfbc47457ea3ff0dea76e59b05",
            "9029617152c04c70bffe1962200fde8a",
            "9e9547bd707f419da1f4d06199550ffa",
            "7c021fb325c44d75b4b15460a5f8ff8a",
            "7ced678ab58b40dfa1b3e0a9a144f70d",
            "638bbbc524c34598baf70fe849425ba8",
            "e1f11b53e96f421ab06a28d91fff9bd8",
            "457a34afc89c4f27b84fc329cdd6d024",
            "5797f381aaa94a019f5e4121e730cdf0",
            "ba52825207e845658bc3a464bf60756a",
            "977151c0b40b4fa9b1cf3e2fa58e5a97",
            "443d33fe27014c539755262f09df966d",
            "fac69f3ee7cb4da3a25325653b53f5df",
            "3a231c31a230415fa7271aba7cf54749",
            "5f850341430943a484e6a77aa5294133",
            "b104fc8b5bb04336805fcf9a2158310f",
            "6967d7c48d5a4e628c6484afac53f8d0",
            "f207fba80bc147c2923046b59597274e",
            "3b321467802c44109bac69ba9052da97",
            "978414f06072480296f5af4d683d0781",
            "8b5a9859cde54d0d8d45b16c95f9e6ee",
            "c901a9a2c2fc40a897ce09f137f0594e",
            "af6acce767a444d2a85c3991ddab542e",
            "aa87c0cf186740d8a7d07af83dd87dde",
            "3f58ce10b7d44e82a6046eb2835d09f4",
            "cab15f5c3d5c4212b4222f969c9f8a7b",
            "cb6ea43ec17d4a98a672d1b9e2fca4b3",
            "822fef5836e64222991c173638d86aeb",
            "1993adc3d5da4036b4c7302bdf0b0ba1",
            "499e7c6fd22a4e6a86d896bab69f1493",
            "3f0d2e3408c24b3985c469c4676a08e2",
            "4f0326bf2f484bd18a1a2bb5b98cbcfb",
            "697ede3e1a1c40b19357e24c577ac68b",
            "094acf09deb24fc5a060fd3889c57cfe",
            "c0a051c48bcd4cc1a88093f6509a0138",
            "e548ad1e58e44a1fa7522c0c8ae79462",
            "fafb531cb58a456e87fd872003e7f610",
            "105412b38bf94522bfc60bb7a8ef3bd4",
            "9f86e073936a436fa387953149bad8b1",
            "78e19e0f575b4dea9b7ea927b8c757f0",
            "c465647aeac2455591d0e71e9b12a93f",
            "e0fd765403554449b64c8f3fff266706",
            "9157232a549743cbacb41ad50d215140",
            "1303b83597eb4f8ea925a238ca599211",
            "4c89b45ea1c844c0850b6e45c938b4da",
            "9d0c778562364fd694dcf605c8bcf350",
            "c9b1d48cba844a409e3e7a7ba7ca0ade",
            "87eafdcb058d4ee2b47f5c0df7b7314e",
            "6a0dd9b4aeee49c38d2e491944c0c025",
            "ae4a1f6eca704dddb8e63e4f183aec72",
            "007d85d7e56442a68eefb0c16117dbda",
            "ecaf7e46ce57485981ac426414ba19ad",
            "5bbb9d71454a404f85d8409841f5e6e0",
            "964a4f0998c64345b7a7a2f3a531b5e3",
            "0b1cc0d8983f449284d53d595d5ea988",
            "9bd96235043b4142a8f8062fbac45300",
            "83b69144c9da467c9c82feb0b72cff8b",
            "effe5e3213484f6389e1d7aad3e075ce",
            "77e0d7f902e846859185a0b363e56717",
            "a36e6a28383347979c8912249f6bbc71",
            "4e3bfdd458b44edfbb44c83a9ceaf3cd",
            "beed8ee01e294209ab70229cb267a554",
            "a18d08aba3344144b705eced9a7a4d58",
            "bc828afaee34466882124e570394056a",
            "69db72126aa24969944beac2f5a6117b",
            "d930749b45b34162936d9c133292dfe9",
            "5bc8c4f33afd4772a7c1a8fcba8283d5",
            "a7e2b8231efd42a1861e3385387c134f",
            "6700bb5542474dbb8dfdda793df6c718",
            "1e5d36745cb24ebfa3a9173c861456aa",
            "3ec3585d8102470b9e4d4e56d4cf923e",
            "daf42b50df1c4e61b6aee5e52599822a",
            "3459a37bb0fe47d7b99c209c3fa1376b",
            "4193cec8393a4fb294aa343b8f8ce445",
            "81979cf2bd4443fa982c721272a505af",
            "5af35cad9bed481995fcfcc321bf2ef4",
            "1688fb36e01646c8b66291c4a24c22c7",
            "eeb804de212f42ebb689f370150313c9",
            "f594b128f4604e91b5b375f26db9e578",
            "75b99bf1663b4ccb8ed7428391afaf19",
            "ef0275d779264419be93280d1f0b62e8",
            "a9dd43cc0f7f49ccbb62a1ef321fe912",
            "54d642eceab844ebba427859d80ff680",
            "afe6f4be6ba94cf89c86e5eb614f5a45",
            "2b256e231f7f40c59271ed174e582eec",
            "f3d4ae0dc0fd4192ac28e9091d87e476",
            "5673ce8b18b84330ac8b8d67130becef",
            "9bf8dc2d8dfc42ed82dfffb4e85060e4"
          ]
        },
        "id": "JjHm261he3wF",
        "outputId": "7d455fbd-32ed-43cb-827d-ae3a4d33279e"
      },
      "execution_count": 4,
      "outputs": [
        {
          "output_type": "stream",
          "name": "stdout",
          "text": [
            "Downloading and preparing dataset 162.17 MiB (download: 162.17 MiB, generated: 132.40 MiB, total: 294.58 MiB) to /root/tensorflow_datasets/cifar10/3.0.2...\n"
          ]
        },
        {
          "output_type": "display_data",
          "data": {
            "text/plain": [
              "Dl Completed...: 0 url [00:00, ? url/s]"
            ],
            "application/vnd.jupyter.widget-view+json": {
              "version_major": 2,
              "version_minor": 0,
              "model_id": "9fd170dfbc47457ea3ff0dea76e59b05"
            }
          },
          "metadata": {}
        },
        {
          "output_type": "display_data",
          "data": {
            "text/plain": [
              "Dl Size...: 0 MiB [00:00, ? MiB/s]"
            ],
            "application/vnd.jupyter.widget-view+json": {
              "version_major": 2,
              "version_minor": 0,
              "model_id": "443d33fe27014c539755262f09df966d"
            }
          },
          "metadata": {}
        },
        {
          "output_type": "display_data",
          "data": {
            "text/plain": [
              "Extraction completed...: 0 file [00:00, ? file/s]"
            ],
            "application/vnd.jupyter.widget-view+json": {
              "version_major": 2,
              "version_minor": 0,
              "model_id": "af6acce767a444d2a85c3991ddab542e"
            }
          },
          "metadata": {}
        },
        {
          "output_type": "display_data",
          "data": {
            "text/plain": [
              "Generating splits...:   0%|          | 0/2 [00:00<?, ? splits/s]"
            ],
            "application/vnd.jupyter.widget-view+json": {
              "version_major": 2,
              "version_minor": 0,
              "model_id": "094acf09deb24fc5a060fd3889c57cfe"
            }
          },
          "metadata": {}
        },
        {
          "output_type": "display_data",
          "data": {
            "text/plain": [
              "Generating train examples...:   0%|          | 0/50000 [00:00<?, ? examples/s]"
            ],
            "application/vnd.jupyter.widget-view+json": {
              "version_major": 2,
              "version_minor": 0,
              "model_id": "4c89b45ea1c844c0850b6e45c938b4da"
            }
          },
          "metadata": {}
        },
        {
          "output_type": "display_data",
          "data": {
            "text/plain": [
              "Shuffling /root/tensorflow_datasets/cifar10/3.0.2.incompleteHW9U23/cifar10-train.tfrecord*...:   0%|          …"
            ],
            "application/vnd.jupyter.widget-view+json": {
              "version_major": 2,
              "version_minor": 0,
              "model_id": "9bd96235043b4142a8f8062fbac45300"
            }
          },
          "metadata": {}
        },
        {
          "output_type": "display_data",
          "data": {
            "text/plain": [
              "Generating test examples...:   0%|          | 0/10000 [00:00<?, ? examples/s]"
            ],
            "application/vnd.jupyter.widget-view+json": {
              "version_major": 2,
              "version_minor": 0,
              "model_id": "5bc8c4f33afd4772a7c1a8fcba8283d5"
            }
          },
          "metadata": {}
        },
        {
          "output_type": "display_data",
          "data": {
            "text/plain": [
              "Shuffling /root/tensorflow_datasets/cifar10/3.0.2.incompleteHW9U23/cifar10-test.tfrecord*...:   0%|          |…"
            ],
            "application/vnd.jupyter.widget-view+json": {
              "version_major": 2,
              "version_minor": 0,
              "model_id": "eeb804de212f42ebb689f370150313c9"
            }
          },
          "metadata": {}
        },
        {
          "output_type": "stream",
          "name": "stdout",
          "text": [
            "Dataset cifar10 downloaded and prepared to /root/tensorflow_datasets/cifar10/3.0.2. Subsequent calls will reuse this data.\n"
          ]
        },
        {
          "output_type": "execute_result",
          "data": {
            "text/plain": [
              "tfds.core.DatasetInfo(\n",
              "    name='cifar10',\n",
              "    full_name='cifar10/3.0.2',\n",
              "    description=\"\"\"\n",
              "    The CIFAR-10 dataset consists of 60000 32x32 colour images in 10 classes, with 6000 images per class. There are 50000 training images and 10000 test images.\n",
              "    \"\"\",\n",
              "    homepage='https://www.cs.toronto.edu/~kriz/cifar.html',\n",
              "    data_path=PosixGPath('/tmp/tmpq84f5o4_tfds'),\n",
              "    file_format=tfrecord,\n",
              "    download_size=162.17 MiB,\n",
              "    dataset_size=132.40 MiB,\n",
              "    features=FeaturesDict({\n",
              "        'id': Text(shape=(), dtype=string),\n",
              "        'image': Image(shape=(32, 32, 3), dtype=uint8),\n",
              "        'label': ClassLabel(shape=(), dtype=int64, num_classes=10),\n",
              "    }),\n",
              "    supervised_keys=('image', 'label'),\n",
              "    disable_shuffling=False,\n",
              "    splits={\n",
              "        'test': <SplitInfo num_examples=10000, num_shards=1>,\n",
              "        'train': <SplitInfo num_examples=50000, num_shards=1>,\n",
              "    },\n",
              "    citation=\"\"\"@TECHREPORT{Krizhevsky09learningmultiple,\n",
              "        author = {Alex Krizhevsky},\n",
              "        title = {Learning multiple layers of features from tiny images},\n",
              "        institution = {},\n",
              "        year = {2009}\n",
              "    }\"\"\",\n",
              ")"
            ]
          },
          "metadata": {},
          "execution_count": 4
        }
      ]
    },
    {
      "cell_type": "markdown",
      "source": [
        "<details>\n",
        "  <summary><h3>🔎 <ins>To Go Further<ins/><h3/></summary>\n",
        "\n",
        "  **⭐⭐⭐Experiment with different TensorFlow datasets** : Explore other datasets available in the TensorFlow Datasets catalog. Load and examine datasets that interest you. Don't forget to change the extracted features and image resolution accordingly after your change !\n",
        "</details>"
      ],
      "metadata": {
        "id": "TpXE2Z7efwYi"
      }
    },
    {
      "cell_type": "markdown",
      "source": [
        "As you can see this TensorFlow dataset has the following feature dictionary for each piece of data :\n",
        "```\n",
        "FeaturesDict({\n",
        "    'id': Text(shape=(), dtype=string),\n",
        "    'image': Image(shape=(32, 32, 3), dtype=uint8),\n",
        "    'label': ClassLabel(shape=(), dtype=int64, num_classes=10),\n",
        "})\n",
        "```\n",
        "![d](https://i.imgur.com/1C25H9U.png)"
      ],
      "metadata": {
        "id": "-8TOTBXp_ntd"
      }
    },
    {
      "cell_type": "markdown",
      "source": [
        "### C. Splitting the data into training, validation, and testing sets"
      ],
      "metadata": {
        "id": "xby1ylmsvXNM"
      }
    },
    {
      "cell_type": "markdown",
      "source": [
        "Let's create two `tf.data.Dataset` instances from the dictionary."
      ],
      "metadata": {
        "id": "feIpipJQAtYl"
      }
    },
    {
      "cell_type": "code",
      "source": [
        "ds_train, ds_test = ds_dict[\"train\"], ds_dict[\"test\"]"
      ],
      "metadata": {
        "id": "B25aJf2YmnJs"
      },
      "execution_count": 5,
      "outputs": []
    },
    {
      "cell_type": "markdown",
      "source": [
        "It's common practice to have a validation dataset for the following reasons :\n",
        "\n",
        "1. **Hyperparameter tuning and model selection**: During the process of training a machine learning model, you often need to make decisions about the model's structure (e.g., the number of layers in a neural network, the number of units in each layer) and the settings of the model's parameters (e.g., learning rate, regularization strength). The validation set provides a unbiased evaluation for model selection and for fine-tuning these hyperparameters.\n",
        "\n",
        "2. **Prevent Overfitting**: Overfitting occurs when the model learns the training data too well, to the point where it is unable to generalize to new, unseen data. By using a validation set, you can monitor the model's performance on unseen data during training and stop training (early stopping) when the validation error starts to increase. This helps to ensure that the model generalizes well and does not merely memorize the training data.\n",
        "\n",
        "3. **Estimate of Test Performance**: The validation set provides an estimate of the model's performance on an independent dataset and can help diagnose different types of errors (bias/variance trade-off). For instance, if the model performs well on the training set but poorly on the validation set, this is a sign of overfitting (high variance). Conversely, if it performs poorly on both, this is a sign of underfitting (high bias).\n",
        "\n",
        "![k](https://www.googleapis.com/download/storage/v1/b/kaggle-user-content/o/inbox%2F4158089%2Fb9fc1dc41a63e901b705e00201cefacf%2FWorkflowWithValidationSet.svg?generation=1586979357140761&alt=media)\n",
        "\n",
        "Let's extract some of the test data to build it."
      ],
      "metadata": {
        "id": "-x_hW1A8BELf"
      }
    },
    {
      "cell_type": "code",
      "source": [
        "# Split the data into training, validation, and testing sets\n",
        "# tf.data.Dataset : https://www.tensorflow.org/api_docs/python/tf/data/Dataset\n",
        "\n",
        "nb_examples_test = ds_info.splits[\"test\"].num_examples\n",
        "nb_examples_validation = int(nb_examples_test * 0.1)\n",
        "\n",
        "ds_validation = ds_test.take(nb_examples_validation)\n",
        "ds_test = ds_test.skip(nb_examples_validation)"
      ],
      "metadata": {
        "id": "bfIlO6WHvEL_"
      },
      "execution_count": 6,
      "outputs": []
    },
    {
      "cell_type": "markdown",
      "source": [
        "<details>\n",
        "  <summary><h3>🔎 <ins>To Go Further<ins/><h3/></summary>\n",
        "\n",
        "  **⭐Experiment with different validation percentages** : even though the validation has to stay low to learn as much information as possible while training, you can try other percentages.\n",
        "</details>"
      ],
      "metadata": {
        "id": "EA86XO1wg4bp"
      }
    },
    {
      "cell_type": "markdown",
      "source": [
        "## IV. <ins>Preprocessing the data</ins>"
      ],
      "metadata": {
        "id": "hMF_aKrFe4BM"
      }
    },
    {
      "cell_type": "markdown",
      "source": [
        "### A. Shaping the data"
      ],
      "metadata": {
        "id": "15tLNaPyoVdB"
      }
    },
    {
      "cell_type": "markdown",
      "source": [
        "`tf.data.Dataset` allows us to `map` a function over the whole data.\n",
        "\n",
        "\n",
        "1.   Extract data from it in order to have `image` as X and `label` as Y\n",
        "2.   Cast the images to `float32`, and the label to `int` with we one_hot encode\n",
        "> ![d](https://miro.medium.com/v2/resize:fit:1400/1*ggtP4a5YaRx6l09KQaYOnw.png)\n",
        "\n",
        "Then we will batch the dataset into sub parts (batchs) of size `batch_size` so we only have to load in memory the current batch we need for each current epoch step.\n",
        "\n"
      ],
      "metadata": {
        "id": "gMaKjBJvCLHe"
      }
    },
    {
      "cell_type": "code",
      "source": [
        "def shape(x):\n",
        "  \"\"\"\n",
        "  Extracts the dictionary into a tuple X, Y\n",
        "  \"\"\"\n",
        "  return x['image'], x['label']\n",
        "\n",
        "img_size = 32\n",
        "\n",
        "def preprocess(img, label):\n",
        "    # good practice, but it's already 32x32 for each image\n",
        "    # img = tf.image.resize(img, [img_size, img_size])\n",
        "    img = tf.cast(img, dtype=tf.float32)\n",
        "    \n",
        "    # one_hot encoding of the label\n",
        "    # ex : class 2 of 3 => [0, 1, 0] or class 0 of 3 => [1, 0, 0]\n",
        "    # this avoid creating a relationship between classes\n",
        "    # \"wrongly classifying a dog as a car is as bad as if it was a plane\"\n",
        "    # https://www.tensorflow.org/api_docs/python/tf/one_hot\n",
        "    return img, tf.one_hot(int(label), n_classes)\n",
        "\n",
        "batch_size = 256\n",
        "\n",
        "# applies the preprocessing functions to the images and labels, shuffles the data,\n",
        "# batches it for training, and prefetches it for optimal performance\n",
        "def preprocess_dataset(ds):\n",
        "    ds = ds.map(shape, num_parallel_calls=tf.data.AUTOTUNE)\n",
        "    ds = ds.map(preprocess, num_parallel_calls=tf.data.AUTOTUNE)\n",
        "\n",
        "    ds = ds.shuffle(len(ds)) # randomly shuffle\n",
        "\n",
        "    # puts everything into memory for faster training\n",
        "    # (bad idea on large datasets)\n",
        "    # can get you a OEM error or crash the notebook\n",
        "    # comment the line if a OEM error occurs\n",
        "    ds = ds.cache()\n",
        "\n",
        "    ds = ds.batch(batch_size)\n",
        "\n",
        "    ds = ds.prefetch(1) # preload the next batch (faster)\n",
        "\n",
        "    return ds\n",
        "\n",
        "# apply it on each dataset we have\n",
        "ds_train = preprocess_dataset(ds_train)\n",
        "ds_validation = preprocess_dataset(ds_validation)\n",
        "ds_test = preprocess_dataset(ds_test)"
      ],
      "metadata": {
        "id": "Pr358KUQobEk"
      },
      "execution_count": 7,
      "outputs": []
    },
    {
      "cell_type": "markdown",
      "source": [
        "<details>\n",
        "  <summary><h3>🔎 <ins>To Go Further<ins/><h3/></summary>\n",
        "\n",
        "  1. **⭐Experiment with different batch sizes**: Adjust the `batch_size` parameter and observe its impact on training performance and memory usage. Explore larger and smaller batch sizes to find an optimal balance between training efficiency and memory requirements.\n",
        "\n",
        "  2. **⭐Evaluate dataset caching**: Uncomment the `ds.cache()` line to cache the dataset in memory. Measure the effect of this caching technique on training time and resource usage. Assess whether the dataset size allows for efficient caching or if it results in increased memory consumption.\n",
        "\n",
        "  3. **⭐Experiment image size**: the dataset provides 32x32 images, but you can try to upscale them by uncommenting `img = tf.image.resize(img, [32, 32])` and changing `img_size = 32`.\n",
        "</details>"
      ],
      "metadata": {
        "id": "tDt70Xh8hW2L"
      }
    },
    {
      "cell_type": "markdown",
      "source": [
        "### B. Normalizing the data"
      ],
      "metadata": {
        "id": "1vYfkrw4e6D0"
      }
    },
    {
      "cell_type": "markdown",
      "source": [
        "As explained in the conference, here are a few reasons why it's usually beneficial:\n",
        "\n",
        "1. **Improving Numerical Stability**: Many machine learning algorithms use numerical optimization techniques that can be sensitive to the scale of the features. If features have very large or very small values or are on different scales, the optimization might become unstable or slow.\n",
        "\n",
        "2. **Faster Convergence During Training**: When features are on similar scales, gradient descent (the algorithm used to find the minimum of the loss function in models like neural networks) tends to converge more quickly. This is because if one feature has a range of 0 to 1 and another has a range of 0 to 1,000,000, the gradients will update the weights of the second feature much more slowly.\n",
        "\n",
        "3. **Preventing Dominance of Features**: If you have features with differing scales, some features might dominate others in certain machine learning models, which can be problematic. For example, in models that use a distance metric, like k-nearest neighbors (KNN) or support vector machines (SVM) (not our case here), a feature with a large scale can dominate the distance calculations, causing the model to mostly pay attention to that feature.\n",
        "\n",
        "![d](https://camo.githubusercontent.com/1f4da8632894c7220f804bcddc6e50bc708e6481/68747470733a2f2f692e696d6775722e636f6d2f32784e423261552e6a7067)"
      ],
      "metadata": {
        "id": "f-L0kII8ElU4"
      }
    },
    {
      "cell_type": "code",
      "source": [
        "# Normalize the data\n",
        "\n",
        "def normalize(img, label):\n",
        "  img = tf.cast(img / 255.0, dtype=tf.float32)\n",
        "  return img, label\n",
        "\n",
        "ds_train = ds_train.map(normalize, num_parallel_calls=tf.data.AUTOTUNE)\n",
        "ds_validation = ds_validation.map(normalize, num_parallel_calls=tf.data.AUTOTUNE)\n",
        "ds_test = ds_test.map(normalize, num_parallel_calls=tf.data.AUTOTUNE)"
      ],
      "metadata": {
        "id": "wlCtANa2e4Ww"
      },
      "execution_count": 8,
      "outputs": []
    },
    {
      "cell_type": "markdown",
      "source": [
        "Let's display some images from the train dataset."
      ],
      "metadata": {
        "id": "LJVnKjKDFVO-"
      }
    },
    {
      "cell_type": "code",
      "source": [
        "def visualize_examples():\n",
        "  one_batch = ds_train.take(1)\n",
        "  grid_size = 5\n",
        "  fig, axs = plt.subplots(grid_size, grid_size)\n",
        "  fig.tight_layout()\n",
        "\n",
        "  for images, labels in one_batch:\n",
        "    for i, data in enumerate(zip(images, labels)):\n",
        "      if i >= grid_size * grid_size:\n",
        "        break\n",
        "      image, label = data\n",
        "      axs[i // grid_size, i % grid_size].imshow(image, cmap=\"gray\")\n",
        "      axs[i // grid_size, i % grid_size].set_title(class_names[np.argmax(label)])\n",
        "      axs[i // grid_size, i % grid_size].set_axis_off()\n",
        "    break\n",
        "  plt.show()\n",
        "\n",
        "visualize_examples()"
      ],
      "metadata": {
        "colab": {
          "base_uri": "https://localhost:8080/",
          "height": 480
        },
        "id": "Q3xs7wD23feL",
        "outputId": "521c0cac-9627-4fcc-afbc-6320fa7db41a"
      },
      "execution_count": 9,
      "outputs": [
        {
          "output_type": "display_data",
          "data": {
            "text/plain": [
              "<Figure size 640x480 with 25 Axes>"
            ],
            "image/png": "[encoded data removed]"
          },
          "metadata": {}
        }
      ]
    },
    {
      "cell_type": "markdown",
      "source": [
        "## V. <ins>Building the basic model</ins>"
      ],
      "metadata": {
        "id": "hSKeX3cnfGRO"
      }
    },
    {
      "cell_type": "markdown",
      "source": [
        "### A. Introduction to neural networks\n",
        "As explained in the conference, Neural networks are a class of machine learning models inspired by the human brain. They are composed of interconnected nodes, or \"neurons\", and can learn to perform complex tasks given enough training data and computational resources.\n",
        "\n",
        "In the context of machine learning, a neural network takes in inputs, processes them through hidden layers using weights that are adjusted during training, and outputs a prediction. This process is known as *forward propagation* (utilized in feed-forward networks). During training, the output of the neural network is compared to the actual target, and the weights are adjusted to minimize the difference between the predicted and actual target. This process is known as backpropagation.\n",
        "\n",
        "> If you would like to watch a great videos explanining this topic :\n",
        "https://youtube.com/playlist?list=PLZHQObOWTQDNU6R1_67000Dx_ZCJB-3pi\n",
        "\n",
        "![d](https://www.researchgate.net/publication/312205163/figure/fig1/AS:453658144972800@1485171938968/a-The-building-block-of-deep-neural-networks-artificial-neuron-or-node-Each-input-x.png)\n",
        "\n",
        "![k](https://miro.medium.com/v2/resize:fit:1400/1*ZXAOUqmlyECgfVa81Sr6Ew.png)"
      ],
      "metadata": {
        "id": "P1BRLJLJfLFM"
      }
    },
    {
      "cell_type": "markdown",
      "source": [
        "### B. Creating a simple feedforward neural network\n"
      ],
      "metadata": {
        "id": "wGtyD8drfMz1"
      }
    },
    {
      "cell_type": "markdown",
      "source": [
        "This code defines a simple feedforward neural network model. Here's a breakdown of what the code does:\n",
        "\n",
        "1. `tf.keras.Sequential`: This is a wrapper for a neural network model that treats the model as a sequence of layers. It simplifies the process of building a model by allowing you to just add one layer at a time.\n",
        "\n",
        "2. `layers.Input(shape=(img_size, img_size, 3))`: This is the input layer of the model. It doesn't do any processing; it's just there to specify the shape of the input data. The shape `(img_size, img_size, 3)` implies that the model expects input images to be `img_size` by `img_size` in size, with 3 color channels (Red, Green, and Blue).\n",
        "\n",
        "3. `layers.Flatten()`: This layer flattens the input data, i.e., it converts a multi-dimensional tensor into a 1-dimensional tensor (vector). It's necessary because the next layer (a Dense layer) expects its input to be a vector.\n",
        "\n",
        "4. `layers.Dense(128, activation='relu')`: This is a fully connected (Dense) layer with 128 neurons. The activation function is the Rectified Linear Unit (ReLU). It's a common choice for hidden layers in a neural network, as it helps the network learn complex patterns effectively.\n",
        "\n",
        "5. `layers.Dense(n_classes, activation='softmax')`: This is the output layer of the network. It has `n_classes` neurons, where `n_classes` is the number of classes the model is trying to predict. The activation function is softmax, which is common for multi-class classification problems. It outputs a probability distribution over the classes, i.e., it makes the output sum to 1 so the output can be interpreted as probabilities."
      ],
      "metadata": {
        "id": "JvCPy7gnFjH_"
      }
    },
    {
      "cell_type": "code",
      "source": [
        "# Build a simple feedforward neural network\n",
        "# tf.keras.Sequential allows you to stack TF layers easily\n",
        "model = tf.keras.Sequential([\n",
        "    layers.Input(shape=(img_size, img_size, 3)),\n",
        "    layers.Flatten(),\n",
        "    layers.Dense(128, activation='relu'),\n",
        "    layers.Dense(n_classes, activation='softmax'),\n",
        "])"
      ],
      "metadata": {
        "id": "WgnY7ZIlfNtS"
      },
      "execution_count": 10,
      "outputs": []
    },
    {
      "cell_type": "code",
      "source": [
        "# plot model\n",
        "def plot_model_architecture(model):\n",
        "  tf.keras.utils.plot_model(\n",
        "    model,\n",
        "    to_file=\"my_model.png\",\n",
        "    show_shapes=True,\n",
        "    show_layer_names=False,\n",
        "    show_layer_activations=True\n",
        "  )\n",
        "  display(Image(filename='my_model.png'))\n",
        "\n",
        "plot_model_architecture(model)"
      ],
      "metadata": {
        "colab": {
          "base_uri": "https://localhost:8080/",
          "height": 422
        },
        "id": "wpSjf7aZb-RL",
        "outputId": "5ffd2aff-6f80-4c3a-af4b-0d835a210c2b"
      },
      "execution_count": 11,
      "outputs": [
        {
          "output_type": "display_data",
          "data": {
            "image/png": "[encoded data removed]",
            "text/plain": [
              "<IPython.core.display.Image object>"
            ]
          },
          "metadata": {}
        }
      ]
    },
    {
      "cell_type": "markdown",
      "source": [
        "<details>\n",
        "  <summary><h3>🔎 <ins>To Go Further<ins/><h3/></summary>\n",
        "\n",
        "  1. **⭐Adjust the number of hidden layers**: Experiment with adding more hidden layers to the network. You can increase the depth of the network by adding additional `layers.Dense` layers. Observe the impact on the model's performance and training time. Be cautious not to make the network too deep, as it may lead to overfitting. (as the number of parameters is directly correlated to overfitting)\n",
        "\n",
        "  2. **⭐Vary the number of neurons in hidden layers**: Modify the number of neurons in the hidden layers. Try increasing or decreasing the number of neurons in the `layers.Dense` layers and observe the effect on the model's capacity to learn and generalize. (overfitting /!\\ )\n",
        "\n",
        "  3. **⭐Experiment with different activation functions**: Explore different activation functions for the hidden layers, such as `sigmoid` or `tanh`, instead of using `relu`. (https://www.tensorflow.org/api_docs/python/tf/keras/activations) Observe how different activation functions affect the model's learning behavior and performance.\n",
        "\n",
        "  4. **⭐⭐Introduce regularization techniques**: Implement regularization techniques like L1 or L2 regularization by adding `kernel_regularizer` or `bias_regularizer` arguments to the `layers.Dense` layers. Observe how regularization affects the model's ability to generalize and handle overfitting.\n",
        "</details>"
      ],
      "metadata": {
        "id": "7VJ9eyDTit1y"
      }
    },
    {
      "cell_type": "markdown",
      "source": [
        "In the next iterations we will try to improve the model, as it is basic at the moment."
      ],
      "metadata": {
        "id": "X3rQT2LBGmjh"
      }
    },
    {
      "cell_type": "markdown",
      "source": [
        "### C. Compiling and training the model"
      ],
      "metadata": {
        "id": "Z2hGtRxKfPz7"
      }
    },
    {
      "cell_type": "markdown",
      "source": [
        "This code block is performing two important tasks: compiling the model and then summarizing the model.\n",
        "\n",
        "1. `model.compile()`: This function configures the model for training. It takes three key arguments:\n",
        "\n",
        "   - `optimizer`: This is the optimization algorithm that the model will use to update its weights. In this case, it's using Adam (Adaptive Moment Estimation), a popular gradient descent-based optimization algorithm that adjusts the learning rate adaptively for each weight.\n",
        "   > ![d](https://i.imgur.com/BZJBS5d.png)\n",
        "\n",
        "   - `loss`: This is the loss function that the model will try to minimize during training. The model is using CategoricalCrossentropy, which is suitable for multi-class classification tasks where the labels are integers (if the labels were not one-hot encoded, you would use SparseCategoricalCrossentropy instead).\n",
        "\n",
        "   - `metrics`: These are the metrics that the model will track during training and testing. In this case, it's tracking accuracy, which is a common metric for classification tasks. Accuracy is the proportion of correct predictions out of total predictions.\n",
        "   > ![d](https://pbs.twimg.com/media/FD2hTDOX0AIdRti.jpg)\n",
        "\n",
        "2. `model.summary()`: This function prints a summary of the model. The summary includes the types of layers in the model, the output shapes of each layer, and the number of parameters (weights) in each layer. It also shows the total number of parameters in the model, and how many of them are trainable and non-trainable. This is useful for getting a high-level overview of the model's architecture and size."
      ],
      "metadata": {
        "id": "M6-ht39nGvI3"
      }
    },
    {
      "cell_type": "code",
      "source": [
        "# Compile and train the model\n",
        "model.compile(optimizer=tf.keras.optimizers.Adam(),\n",
        "              loss=tf.keras.losses.CategoricalCrossentropy(),\n",
        "              metrics=['accuracy'])\n",
        "model.summary()"
      ],
      "metadata": {
        "colab": {
          "base_uri": "https://localhost:8080/"
        },
        "id": "eCVUVjDvfRR3",
        "outputId": "b180c783-3ac0-435a-ca8c-61068b40b59e"
      },
      "execution_count": 12,
      "outputs": [
        {
          "output_type": "stream",
          "name": "stdout",
          "text": [
            "Model: \"sequential\"\n",
            "_________________________________________________________________\n",
            " Layer (type)                Output Shape              Param #   \n",
            "=================================================================\n",
            " flatten (Flatten)           (None, 3072)              0         \n",
            "                                                                 \n",
            " dense (Dense)               (None, 128)               393344    \n",
            "                                                                 \n",
            " dense_1 (Dense)             (None, 10)                1290      \n",
            "                                                                 \n",
            "=================================================================\n",
            "Total params: 394,634\n",
            "Trainable params: 394,634\n",
            "Non-trainable params: 0\n",
            "_________________________________________________________________\n"
          ]
        }
      ]
    },
    {
      "cell_type": "markdown",
      "source": [
        "<details>\n",
        "  <summary><h3>🔎 <ins>To Go Further<ins/><h3/></summary>\n",
        "\n",
        "  1. **⭐Try different optimizers**: Experiment with different optimizers available in TensorFlow, such as `SGD`, `RMSprop`, or `Adam` (https://www.tensorflow.org/api_docs/python/tf/keras/optimizers). Modify the optimizer in the model's compilation step (`model.compile(...)`) and observe the impact on the training speed and final performance of the model. Also try to tweak their parameters !\n",
        "\n",
        "  2. **⭐Modify the learning rate**: Adjust the learning rate of the optimizer. Try different values, such as increasing or decreasing the learning rate, and observe the effect on the model's convergence and performance. You can set the learning rate by configuring the optimizer with the `learning_rate` parameter.\n",
        "</details>"
      ],
      "metadata": {
        "id": "hPxtzcKskdwM"
      }
    },
    {
      "cell_type": "markdown",
      "source": [
        "This code block is used to train the model using the `model.fit()` function. Here's a detailed explanation:\n",
        "\n",
        "1. `history = model.fit()`: This function is responsible for training the model for a specified number of epochs (iterations over the entire dataset). The function returns a `History` object, which is a record of training loss values and metrics values at successive epochs, as well as validation loss values and validation metrics values.\n",
        "\n",
        "2. The parameters for `model.fit()` are:\n",
        "\n",
        "   - `ds_train`: This is the training dataset that the model will learn from. It is expected to be a `tf.data.Dataset` object that yields batches of inputs and targets.\n",
        "\n",
        "   - `batch_size`: This is the number of samples to work through before updating the internal model parameters. It's the number of images that the model \"sees\" at once during training. It's typically set as a power of 2 (like 32 or 64) that fits within the memory limit of your GPU.\n",
        "\n",
        "   - `epochs=5`: This is the number of times the learning algorithm will work through the entire training dataset. One epoch means that each sample in the training dataset has had an opportunity to update the internal model parameters. An epoch is a measure of the number of times all of the training vectors are used once to update the weights.\n",
        "\n",
        "   - `validation_data=ds_validation`: This is the data on which to evaluate the loss and any model metrics at the end of each epoch. The model will not be trained on this data. This is a `tf.data.Dataset` object."
      ],
      "metadata": {
        "id": "Gq74gIxZJoTU"
      }
    },
    {
      "cell_type": "code",
      "source": [
        "history = model.fit(\n",
        "  ds_train,\n",
        "  batch_size=batch_size,\n",
        "  epochs=5,\n",
        "  validation_data=ds_validation,\n",
        ")"
      ],
      "metadata": {
        "colab": {
          "base_uri": "https://localhost:8080/"
        },
        "id": "I1fOS2H1DhKw",
        "outputId": "26ddb489-489a-4635-b013-f8351dcbe3d1"
      },
      "execution_count": 13,
      "outputs": [
        {
          "output_type": "stream",
          "name": "stdout",
          "text": [
            "Epoch 1/5\n",
            "196/196 [==============================] - 9s 7ms/step - loss: 2.0084 - accuracy: 0.2885 - val_loss: 1.7830 - val_accuracy: 0.3760\n",
            "Epoch 2/5\n",
            "196/196 [==============================] - 1s 5ms/step - loss: 1.8043 - accuracy: 0.3635 - val_loss: 1.6887 - val_accuracy: 0.4080\n",
            "Epoch 3/5\n",
            "196/196 [==============================] - 1s 5ms/step - loss: 1.7428 - accuracy: 0.3869 - val_loss: 1.6429 - val_accuracy: 0.4210\n",
            "Epoch 4/5\n",
            "196/196 [==============================] - 1s 5ms/step - loss: 1.6987 - accuracy: 0.4025 - val_loss: 1.6124 - val_accuracy: 0.4220\n",
            "Epoch 5/5\n",
            "196/196 [==============================] - 1s 6ms/step - loss: 1.6664 - accuracy: 0.4138 - val_loss: 1.5991 - val_accuracy: 0.4400\n"
          ]
        }
      ]
    },
    {
      "cell_type": "markdown",
      "source": [
        "<details>\n",
        "  <summary><h3>🔎 <ins>To Go Further<ins/><h3/></summary>\n",
        "\n",
        "  1. **⭐⭐Implement early stopping**: Add an early stopping mechanism to prevent overfitting and improve training efficiency. Use the `tf.keras.callbacks.EarlyStopping` callback to monitor a specific metric, such as validation loss, and stop the training when the metric stops improving for a certain number of epochs.\n",
        "\n",
        "  2. **⭐⭐Implement a learning rate reduction strategy**: Use the `tf.keras.callbacks.ReduceLROnPlateau` callback. This callback dynamically adjusts the learning rate during training when a monitored metric (e.g., validation loss) stops improving. Reducing the learning rate can help the model converge more effectively and potentially achieve better performance.\n",
        "\n",
        "  To add the callbacks to the `fit` method, add a parameter `callbacks=list_of_your_callbacks`\n",
        "  \n",
        "  > Complete list of all callbacks : https://www.tensorflow.org/api_docs/python/tf/keras/callbacks\n",
        "</details>"
      ],
      "metadata": {
        "id": "TprlMc13k6ep"
      }
    },
    {
      "cell_type": "markdown",
      "source": [
        "In the next step, we will create plots of the accuracy and loss during training. These plots are called learning curves. They provide a visual representation of how the model's learning is progressing.\n",
        "\n",
        "The y-axis on an accuracy plot is accuracy, while on a loss plot it is loss. The x-axis on both plots is the number of epochs. \n",
        "\n",
        "1. **Accuracy curves**: These plots will show us how the accuracy of our model on the training and validation datasets evolves during training. The training accuracy curve is expected to increase over time. The validation accuracy curve might also increase over time, but there will typically be a point after which it will plateau or even start decreasing. This point indicates where the model has learned to generalize well from the training data and any further training is causing the model to *overfit* to the training data.\n",
        "\n",
        "2. **Loss curves**: These plots will show us how the loss (categorical cross entropy) of our model on the training and validation datasets evolves during training. The training loss curve is expected to decrease over time. The validation loss curve might also decrease over time, but there will typically be a point after which it will plateau or even start increasing (just like the accuracy)."
      ],
      "metadata": {
        "id": "puCjV1xLJ4Ik"
      }
    },
    {
      "cell_type": "code",
      "source": [
        "def plot_history(history):\n",
        "  # Plotting accuracy\n",
        "  plt.figure(figsize=(12, 6))\n",
        "\n",
        "  plt.subplot(1, 2, 1)  # 1 row, 2 columns, plot 1\n",
        "  plt.plot(history.history['accuracy'])\n",
        "  plt.plot(history.history['val_accuracy'])\n",
        "  plt.title('Model Accuracy')\n",
        "  plt.ylabel('Accuracy')\n",
        "  plt.xlabel('Epoch')\n",
        "  plt.legend(['Train', 'Validation'], loc='upper left')\n",
        "\n",
        "  # Plotting loss\n",
        "  plt.subplot(1, 2, 2)  # 1 row, 2 columns, plot 2\n",
        "  plt.plot(history.history['loss'])\n",
        "  plt.plot(history.history['val_loss'])\n",
        "  plt.title('Model Loss')\n",
        "  plt.ylabel('Loss')\n",
        "  plt.xlabel('Epoch')\n",
        "  plt.legend(['Train', 'Validation'], loc='upper left')\n",
        "\n",
        "  plt.tight_layout()  # Adjusts subplot params so that subplots don't overlap\n",
        "  plt.show()\n",
        "\n",
        "plot_history(history)"
      ],
      "metadata": {
        "colab": {
          "base_uri": "https://localhost:8080/",
          "height": 379
        },
        "id": "FcGy8SU5HGY3",
        "outputId": "8ac1f92b-3423-4935-8055-b22e86c0ac32"
      },
      "execution_count": 14,
      "outputs": [
        {
          "output_type": "display_data",
          "data": {
            "text/plain": [
              "<Figure size 1200x600 with 2 Axes>"
            ],
            "image/png": "[encoded data removed]"
          },
          "metadata": {}
        }
      ]
    },
    {
      "cell_type": "markdown",
      "source": [
        "### D. Evaluating the model on the test dataset"
      ],
      "metadata": {
        "id": "Apdz7_aYfSOl"
      }
    },
    {
      "cell_type": "markdown",
      "source": [
        "This code block evaluates the model on the test dataset and prints the resulting accuracy. This gives you an unbiased estimate of how well the model is expected to perform on new, unseen data, since the test set was not used at all during the training process."
      ],
      "metadata": {
        "id": "gn8jHroKLf_i"
      }
    },
    {
      "cell_type": "code",
      "source": [
        "# Evaluate the model on the test dataset\n",
        "test_loss, test_acc = model.evaluate(ds_test, verbose=2)\n",
        "print('\\nTest accuracy:', round(test_acc, 4))"
      ],
      "metadata": {
        "id": "NJoid7cIfUiZ",
        "colab": {
          "base_uri": "https://localhost:8080/"
        },
        "outputId": "2cd8492b-4b44-4211-d2ef-a40fa5e23624"
      },
      "execution_count": 15,
      "outputs": [
        {
          "output_type": "stream",
          "name": "stdout",
          "text": [
            "36/36 - 2s - loss: 1.6480 - accuracy: 0.4154 - 2s/epoch - 49ms/step\n",
            "\n",
            "Test accuracy: 0.4154\n"
          ]
        }
      ]
    },
    {
      "cell_type": "markdown",
      "source": [
        "## VI. <ins>Improving the model with Convolutional Neural Networks (CNNs)</ins>"
      ],
      "metadata": {
        "id": "HmjVzW2AfWdh"
      }
    },
    {
      "cell_type": "markdown",
      "source": [
        "### A. Introduction to convolutions and feature extraction\n",
        "\n",
        "A Conv2D layer performs a 2D convolution operation. In the context of a CNN, this means that it applies a series of filters (also known as kernels) to the input data (recall the conference). Each filter is a small square matrix of weights which is slid over the input image, from left to right, top to bottom, taking a dot product of the filter and the section of the image it's currently on at each step. This results in a 2D activation map that gives the responses of that filter at every spatial position.\n",
        "\n",
        "![d](https://mlnotebook.github.io/img/CNN/convSobel.gif)\n",
        "\n",
        "This operation has several benefits:\n",
        "\n",
        "1. **Feature Learning**: Each filter can learn to detect a specific feature in the input data. For example, in an image, early layers might learn to detect edges or colors, while deeper layers might detect more complex patterns like shapes or objects. \n",
        "\n",
        "2. **Spatial Invariance**: Because the same filter is applied across the entire image, the model can recognize the same pattern anywhere in the image. This means the model has translation invariance, i.e., it can recognize objects no matter where they are located in the image.\n",
        "\n",
        "3. **Parameter Efficiency**: Convolutional layers require fewer parameters than fully connected layers, which makes the network more efficient and reduces the risk of overfitting.\n",
        "\n",
        "In the next step, by adding a Conv2D layer to our model, we'll be upgrading our architecture from a simple feed-forward network to a more powerful convolutional network. This should help the model learn more complex patterns in the data and improve its performance."
      ],
      "metadata": {
        "id": "Ds8osrv9fXdU"
      }
    },
    {
      "cell_type": "markdown",
      "source": [
        "### B. Adding convolutional layers to the model\n",
        "```python\n",
        "tf.keras.layers.Conv2D(\n",
        "    filters,\n",
        "    kernel_size,\n",
        "    strides=(1, 1),\n",
        "    padding='valid',\n",
        "    ...\n",
        ")\n",
        "\n",
        "```\n",
        "Example :\n",
        "```python\n",
        "tf.keras.layers.Conv2D(32, (3, 3), activation='relu')\n",
        "```"
      ],
      "metadata": {
        "id": "9ZojKSlefgE0"
      }
    },
    {
      "cell_type": "markdown",
      "source": [
        "### C. Adding maximum pooling layers to reduce dimensionality\n",
        "\n",
        "Pooling layers are another key component of Convolutional Neural Networks (CNNs). They are typically used immediately after convolutional layers.\n",
        "\n",
        "Pooling layers perform a down-sampling operation along the spatial dimensions (width, height) of the input data. The most common type of pooling is max pooling, which extracts the maximum value in each patch of the input data according to the kernel size of the pooling layer. \n",
        "\n",
        "There are several reasons why pooling layers are used:\n",
        "\n",
        "1. **Dimensionality Reduction**: By down-sampling the input data, pooling layers significantly reduce the spatial dimensions (width, height) of the data, which leads to a reduction in the amount of parameters and computation in the network. This makes the network more efficient.\n",
        "\n",
        "2. **Invariance to Small Translations**: Pooling layers provide a form of translation invariance. That means that if the input image is slightly shifted or translated, the values of most of the pooled features do not change. This makes the model more robust to variations in the position of features in the input data.\n",
        "\n",
        "3. **Feature Extraction**: By taking the maximum value in each patch of the input, max pooling effectively acts as a feature detector, picking out the most important features from the input data.\n",
        "\n",
        "When stacking two convolutional layers in a convolutional neural network (CNN), there are a few general rules to consider regarding the stride, padding, and kernel size:\n",
        "\n",
        "1. **Stride**: The stride determines the step size of the convolutional filter as it moves across the input. In general, it is recommended to use a stride of 1 for the convolutional layers within the network. A stride of 1 preserves spatial information and allows the filters to scan the input more comprehensively. Larger strides, such as 2 or more, reduce the spatial dimensions of the output and can lead to loss of fine-grained details.\n",
        "\n",
        "2. **Padding**: Padding is the addition of extra border pixels around the input image to ensure that the spatial dimensions of the output remain the same as the input. There are two types of padding: \"same\" and \"valid\". \n",
        "   - \"Same\" padding adds zeros to the input image so that the output feature map has the same spatial dimensions as the input. It helps in preserving spatial information and is often used to avoid reduction in feature map size.\n",
        "   - \"Valid\" padding means no padding is added, and the output feature map size will be smaller than the input size. This can result in a progressive reduction of spatial dimensions throughout the network.\n",
        "\n",
        "3. **Kernel Size**: The kernel size, also known as the filter size, determines the receptive field of each convolutional layer. It specifies the dimensions of the sliding window that moves across the input. Common kernel sizes are 3x3, 5x5, and 7x7. Smaller kernel sizes allow the network to capture local features, while larger kernel sizes enable the network to capture more global features. In practice, smaller kernel sizes are often preferred due to their computational efficiency and ability to capture fine-grained details.\n",
        "\n",
        "In the next step, by adding a pooling layer after our Conv2D layer, we are aiming to both reduce the dimensionality of our data (making subsequent layers more computationally efficient) and to make our model more robust to small translations and variations in the input data.\n",
        "\n",
        "```python\n",
        "tf.keras.layers.MaxPooling2D(\n",
        "    pool_size=(2, 2),\n",
        "    strides=None,\n",
        "    padding=\"valid\",\n",
        "    ...\n",
        ")\n",
        "```\n",
        "Example :\n",
        "```python\n",
        "tf.keras.layers.MaxPooling2D((2, 2))\n",
        "```"
      ],
      "metadata": {
        "id": "2HuJklp7fq5I"
      }
    },
    {
      "cell_type": "markdown",
      "source": [
        "### D. Retraining and evaluating the updated model\n"
      ],
      "metadata": {
        "id": "f1qwxa13fudj"
      }
    },
    {
      "cell_type": "code",
      "source": [
        "cnn_model = models.Sequential([\n",
        "    layers.Input(shape=(img_size, img_size, 3)),\n",
        "    layers.Conv2D(32, (3, 3), activation='relu'),\n",
        "    layers.MaxPooling2D((2, 2)),\n",
        "    layers.Conv2D(64, (3, 3), activation='relu'),\n",
        "    layers.MaxPooling2D((2, 2)),\n",
        "    layers.Flatten(),\n",
        "    layers.Dense(64, activation='relu'),\n",
        "    layers.Dense(n_classes, activation='softmax')\n",
        "])\n",
        "\n",
        "plot_model_architecture(cnn_model)\n",
        "\n",
        "cnn_model.compile(optimizer='adam',\n",
        "                  loss='categorical_crossentropy',\n",
        "                  metrics=['accuracy'])\n",
        "cnn_model.summary()\n",
        "\n",
        "history = cnn_model.fit(ds_train, epochs=5, validation_data=ds_validation)"
      ],
      "metadata": {
        "id": "hAISCkTdfuqg",
        "colab": {
          "base_uri": "https://localhost:8080/",
          "height": 1000
        },
        "outputId": "7c427659-baff-46e9-a394-6d3669457618"
      },
      "execution_count": 16,
      "outputs": [
        {
          "output_type": "display_data",
          "data": {
            "image/png": "[encoded data removed]",
            "text/plain": [
              "<IPython.core.display.Image object>"
            ]
          },
          "metadata": {}
        },
        {
          "output_type": "stream",
          "name": "stdout",
          "text": [
            "Model: \"sequential_1\"\n",
            "_________________________________________________________________\n",
            " Layer (type)                Output Shape              Param #   \n",
            "=================================================================\n",
            " conv2d (Conv2D)             (None, 30, 30, 32)        896       \n",
            "                                                                 \n",
            " max_pooling2d (MaxPooling2D  (None, 15, 15, 32)       0         \n",
            " )                                                               \n",
            "                                                                 \n",
            " conv2d_1 (Conv2D)           (None, 13, 13, 64)        18496     \n",
            "                                                                 \n",
            " max_pooling2d_1 (MaxPooling  (None, 6, 6, 64)         0         \n",
            " 2D)                                                             \n",
            "                                                                 \n",
            " flatten_1 (Flatten)         (None, 2304)              0         \n",
            "                                                                 \n",
            " dense_2 (Dense)             (None, 64)                147520    \n",
            "                                                                 \n",
            " dense_3 (Dense)             (None, 10)                650       \n",
            "                                                                 \n",
            "=================================================================\n",
            "Total params: 167,562\n",
            "Trainable params: 167,562\n",
            "Non-trainable params: 0\n",
            "_________________________________________________________________\n",
            "Epoch 1/5\n",
            "196/196 [==============================] - 9s 12ms/step - loss: 1.7199 - accuracy: 0.3758 - val_loss: 1.4365 - val_accuracy: 0.4990\n",
            "Epoch 2/5\n",
            "196/196 [==============================] - 2s 8ms/step - loss: 1.3535 - accuracy: 0.5219 - val_loss: 1.2687 - val_accuracy: 0.5740\n",
            "Epoch 3/5\n",
            "196/196 [==============================] - 2s 8ms/step - loss: 1.2241 - accuracy: 0.5732 - val_loss: 1.1668 - val_accuracy: 0.6040\n",
            "Epoch 4/5\n",
            "196/196 [==============================] - 2s 8ms/step - loss: 1.1374 - accuracy: 0.6064 - val_loss: 1.0771 - val_accuracy: 0.6490\n",
            "Epoch 5/5\n",
            "196/196 [==============================] - 2s 8ms/step - loss: 1.0740 - accuracy: 0.6293 - val_loss: 1.0170 - val_accuracy: 0.6630\n"
          ]
        }
      ]
    },
    {
      "cell_type": "markdown",
      "source": [
        "<details>\n",
        "  <summary><h3>🔎 <ins>To Go Further<ins/><h3/></summary>\n",
        "\n",
        "  1. **⭐Change the number of filters**: Experiment with changing the number of filters in the `Conv2D` layers. Increase or decrease the number of filters and observe the impact on the model's performance and training time. More filters can potentially capture more complex patterns, while fewer filters may simplify the model and reduce computational overhead.\n",
        "\n",
        "  2. **⭐Adjust the kernel size**: Modify the kernel size in the `Conv2D` layers. Try different kernel sizes, such as $(5, 5)$ or $(7, 7)$, and evaluate their effect on the model's ability to capture different spatial features in the images.\n",
        "\n",
        "  3. **⭐⭐Add more convolutional layers**: Extend the model's depth by adding additional `Conv2D` layers. Experiment with inserting one or more extra convolutional layers, followed by pooling layers, and observe the impact on the model's performance. Be cautious not to make the model too deep, as it may lead to overfitting.\n",
        "  <blockquote>\n",
        "  When stacking two convolutional layers (Conv $n$ and Conv $n+1$), the general rule for maintaining the spatial dimensions is as follows:\n",
        "\n",
        "    - If Conv $n$ has \"same\" padding, a stride of 1, and a kernel size of $K$, Conv $n+1$ should also have a stride of 1 and a kernel size of $K$ to preserve the spatial dimensions of the output feature maps.\n",
        "\n",
        "    - If Conv $n$ has \"valid\" padding, the output feature map size will be reduced. Conv $n+1$ can have either \"same\" or \"valid\" padding, depending on whether you want to maintain the reduced spatial dimensions or further reduce them.\n",
        "  <blockquote/>\n",
        "\n",
        "  4. **⭐Change the activation function**: Explore different activation functions for the convolutional and dense layers. Consider using activation functions like `sigmoid` or `tanh` instead of `relu`. Observe how different activation functions influence the model's learning behavior and performance.\n",
        "\n",
        "  5. **⭐⭐Add regularization**: Implement regularization techniques such as L2 regularization to mitigate overfitting. Add `layers.Regularization` layers to the model and evaluate their effect on the model's ability to generalize and prevent overfitting.\n",
        "</details>"
      ],
      "metadata": {
        "id": "pHyRzHA_mOKp"
      }
    },
    {
      "cell_type": "code",
      "source": [
        "plot_history(history)"
      ],
      "metadata": {
        "colab": {
          "base_uri": "https://localhost:8080/",
          "height": 379
        },
        "id": "rzah4Aa2QzK-",
        "outputId": "2330e6c9-1b7d-4e27-f214-a30c1125fb7c"
      },
      "execution_count": 17,
      "outputs": [
        {
          "output_type": "display_data",
          "data": {
            "text/plain": [
              "<Figure size 1200x600 with 2 Axes>"
            ],
            "image/png": "[encoded data removed]"
          },
          "metadata": {}
        }
      ]
    },
    {
      "cell_type": "code",
      "source": [
        "test_loss, test_acc = cnn_model.evaluate(ds_test, verbose=2)\n",
        "print('\\nTest accuracy:', round(test_acc, 4))"
      ],
      "metadata": {
        "colab": {
          "base_uri": "https://localhost:8080/"
        },
        "id": "uOH-ywvaQw7o",
        "outputId": "89105126-6dec-4886-cdb6-306a32e13c3a"
      },
      "execution_count": 18,
      "outputs": [
        {
          "output_type": "stream",
          "name": "stdout",
          "text": [
            "36/36 - 0s - loss: 1.0656 - accuracy: 0.6260 - 330ms/epoch - 9ms/step\n",
            "\n",
            "Test accuracy: 0.626\n"
          ]
        }
      ]
    },
    {
      "cell_type": "markdown",
      "source": [
        "We can see the model's accuracy and loss have grealty improved."
      ],
      "metadata": {
        "id": "-SrENJFoNaN1"
      }
    },
    {
      "cell_type": "markdown",
      "source": [
        "## VII. <ins>Next Part</ins>"
      ],
      "metadata": {
        "id": "gUfIt1X-mQfd"
      }
    },
    {
      "cell_type": "markdown",
      "source": [
        "In the upcoming segment of our exploration, we aim to upgrade the model's ability to generalize more effectively by utilizing the technique of data augmentation. This process will serve to increase the diversity of our data set, thus enhancing the model's ability to make accurate predictions in varied scenarios.\n",
        "\n",
        "Additionally, we will be exploring two vital pillars of Deep Learning, namely transfer learning and fine-tuning. Transfer learning refers to the practice of utilizing pre-trained models on a new problem, capitalizing on the knowledge gained during the initial training phase to streamline the learning process. Fine-tuning, on the other hand, involves the subtle adjustment of these pre-trained models to better suit our specific task, thereby optimizing their performance. These two methodologies will be instrumental in our pursuit of a highly efficient and effective Deep Learning model/\n",
        "\n",
        "See you in the next part !\n",
        "\n",
        "Tom\n",
        "\n",
        "----\n",
        "\n",
        "Created by Tom Genlis - EPITA 2024 - SCIA - CV\n",
        "\n",
        "- GitHub : [OrdinaryDev83](https://github.com/OrdinaryDev83)\n",
        "- Mail : tom.genlis@gmail.com\n",
        "- Discord : OrdinaryDev83#9338\n",
        "- LinkedIn : [Tom Genlis](https://www.linkedin.com/in/tom-genlis/)"
      ],
      "metadata": {
        "id": "0YRoYFiomR1z"
      }
    }
  ]
}
